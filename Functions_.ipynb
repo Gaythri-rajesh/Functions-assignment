{
  "nbformat": 4,
  "nbformat_minor": 0,
  "metadata": {
    "colab": {
      "provenance": []
    },
    "kernelspec": {
      "name": "python3",
      "display_name": "Python 3"
    },
    "language_info": {
      "name": "python"
    }
  },
  "cells": [
    {
      "cell_type": "markdown",
      "source": [
        "# Function Assignment\n",
        "\n",
        "Theory\n",
        "\n",
        "1. What is the difference between a function and a method in Python?\n",
        "\n",
        "    -> In python, the main difference between a function and a method lies in how they are defined and used:\n",
        "\n",
        "    . A function is a block of code that perform a specific task  and is defined using the def keyword . It automatically takes the instance (self) as its first argument and can access the object's attributes.\n",
        "\n",
        "    Example:\n",
        "\n",
        "      def add(a, b):\n",
        "        \n",
        "        return a + b\n",
        "      \n",
        "      print(add(2, 3))\n",
        "\n",
        "       OUTPUT 5\n",
        "\n",
        "    . A method, on the other hand, is a function that is definedd inside a class and is called on an object. It automatically takes the instance (self) as its first argument and can access the object's attributes.\n",
        "\n",
        "    Example:\n",
        "\n",
        "     class Calculator :\n",
        "        \n",
        "        def add(self, a, b)\n",
        "          \n",
        "          return a + b\n",
        "\n",
        "     calc = Calculator()\n",
        "\n",
        "     print(cal.add(2,3))\n",
        "\n",
        "     OUTPUT - 5\n",
        "\n",
        "2. Explain the concept of function arguments and parameters in Python.\n",
        "\n",
        "    -> In Python, when defining a function, we use parameters to specify what kind of data the function can recieve. When calling the function, we pass arguments, whichh are the actual values given to those parameters.\n",
        "\n",
        "    A function can take different types of arguements:\n",
        "\n",
        "    1.Positional Arguements: These are passed in the correct orders of parameters..\n",
        "\n",
        "    Example\n",
        "\n",
        "     def greet(name, age):\n",
        "\n",
        "       print(f'Hello, {name}. You are {age} years old.\")\n",
        "\n",
        "     greet(\"Gayathri\",  25)\n",
        "\n",
        "    2.Keyword Arguements: Arguements are passed with parameter names.\n",
        "\n",
        "    Example\n",
        "\n",
        "      greet(name=\"Gayathri\", age=25)\n",
        "\n",
        "    3.Default Arguements: Parameters with default values that are used if no arguement is provided.\n",
        "\n",
        "    Example\n",
        "\n",
        "     def greet(name=\"guest'):\n",
        "\n",
        "       print(f\"Hello, {name}!\")\n",
        "\n",
        "     greet()\n",
        "\n",
        "     Output- Hello, Guest!\n",
        "\n",
        "    4.Variable-length Arguments:\n",
        "\n",
        "     . args allows passing multiple positional arguements.\n",
        "\n",
        "     def add(*numbers):\n",
        "\n",
        "     print(sum(numbers))\n",
        "\n",
        "     add(1, 2, 3)  # Output: 6\n",
        "\n",
        "     . kwargs allows passing multiple keyword arguements.\n",
        "\n",
        "     def display_info(**info):\n",
        "\n",
        "     for key, value in info.items():\n",
        "\n",
        "        print(f\"{key}: {value}\")\n",
        "\n",
        "     display_info(name=\"Gayathri\", age=25)\n",
        "\n",
        "3. What are the different ways to define and call a function in Python?\n",
        "\n",
        "    -> In python, afunction is defined using the def keyword or the lambda keyword (for anonymous functions).There are several ways to define and call functions depending on the case.\n",
        "\n",
        "    1.Standard Function Definition\n",
        "       \n",
        "      Defined using the def keyword.\n",
        "\n",
        "      def greet(name):\n",
        "\n",
        "         print(f\"Hello, {name}!\")\n",
        "\n",
        "     greet(\"Gayathri\")  \n",
        "     \n",
        "\n",
        "    2.Function with Default Arguments\n",
        "\n",
        "     def greet(name=\"Guest\"):\n",
        "\n",
        "        print(f\"Hello, {name}!\")\n",
        "\n",
        "         greet()              \n",
        "\n",
        "          Output: Hello, Guest!\n",
        "\n",
        "        greet(\"Gayathri\")    \n",
        "\n",
        "           Output: Hello, Gayathri!\n",
        "\n",
        "    3.Function with Variable-length Arguments\n",
        "    \n",
        "    . *args for multiple positional arguments\n",
        "\n",
        "    . **kwargs for multiple keyword arguments\n",
        "\n",
        "     def add(*numbers):\n",
        "\n",
        "          print(sum(numbers))\n",
        "\n",
        "     add(1, 2, 3)   \n",
        "      \n",
        "      Output: 6\n",
        "\n",
        "     def show_info(**details):\n",
        "\n",
        "       print(details)\n",
        "\n",
        "     show_info(name=\"Gayathri\", age=25)\n",
        "\n",
        "\n",
        "    4.Lambda (Anonymous) Function\n",
        "\n",
        "    Used for simple, one-line functions.\n",
        "\n",
        "     square = lambda x: x * x\n",
        "\n",
        "       print(square(4))  \n",
        "       \n",
        "        Output: 16\n",
        "\n",
        "    5.Nested Functions (Function inside a function)\n",
        "\n",
        "      def outer():\n",
        "     \n",
        "       def inner():\n",
        "        \n",
        "        print(\"This is the inner function.\")\n",
        "      \n",
        "      inner()\n",
        "\n",
        "     outer()\n",
        "\n",
        "    6.Function with Return Value\n",
        "\n",
        "      def multiply(a, b):\n",
        "\n",
        "       return a * b\n",
        "\n",
        "        result = multiply(2, 5)\n",
        "\n",
        "       print(result)  # Output: 10\n",
        "\n",
        "4.  What is the purpose of the `return` statement in a Python function?\n",
        "\n",
        "    -> The return statement in a Python function is used to send back a value from the function to the caller. It ends the function execution and provides the result to the code that called the function.\n",
        "\n",
        "    🔹 Purpose of return:\n",
        "    \n",
        "    1 Returns a value to the caller:\n",
        "\n",
        "      def add(a, b):\n",
        "     \n",
        "     return a + b\n",
        "\n",
        "     result = add(3, 5)\n",
        "    \n",
        "     print(result)  #\n",
        "\n",
        "     Output: 8\n",
        "\n",
        "   2 Ends function execution immediately:\n",
        "    \n",
        "    Any code after return inside a function is not executed.\n",
        "\n",
        "     def test():\n",
        "     return \"Done\"\n",
        "    print(\"This won't run\")  # This line is ignored\n",
        "\n",
        "     Can return multiple values as a tuple:\n",
        "\n",
        "     def get_details():\n",
        "    \n",
        "      return \"Gayathri\", 25\n",
        "\n",
        "      name, age = get_details()\n",
        "     \n",
        "     print(name, age)  # Output: Gayathri 25\n",
        "\n",
        "     Can return nothing (i.e., None by default):\n",
        "\n",
        "     def say_hello():\n",
        "    \n",
        "      print(\"Hello\")\n",
        "\n",
        "      result = say_hello()\n",
        "     \n",
        "      print(result)  # Output: None\n",
        "\n",
        "5. What are iterators in Python and how do they differ from iterables?\n",
        "\n",
        "    -> In Python, an iterator is an object that allows you to traverse through all the elements of a collection, one at a time. It keeps track of where it is in the sequence and can be used with next() to get the next item.\n",
        "\n",
        "    An iterable is any object that can be looped over (iterated), such as lists, tuples, strings, etc.\n",
        "\n",
        "    1.Iterables:\n",
        "\n",
        "    . An object that can return an iterator.\n",
        "\n",
        "    . Has a method called __iter__().\n",
        "\n",
        "    Examples: list, tuple, dict, set, str.\n",
        "\n",
        "    my_list = [1, 2, 3]  # This is an iterable\n",
        "\n",
        "    2.Iterators:\n",
        "\n",
        "    . An object that keeps state and produces the next value when you call next().\n",
        "\n",
        "    . Has two methods: __iter__() and __next__().\n",
        "\n",
        "    my_list = [1, 2, 3]\n",
        "\n",
        "    iterator = iter(my_list)  # Creating an iterator from the iterable\n",
        "\n",
        "    print(next(iterator))     # Output: 1\n",
        "\n",
        "    print(next(iterator))     # Output: 2\n",
        "    \n",
        "6.  Explain the concept of generators in Python and how they are defined.\n",
        "\n",
        "    -> In Python, a generator is a special type of function that allows you to iterate over a sequence of values one at a time, using less memory and providing better performance for large datasets.\n",
        "\n",
        "    Instead of using return, a generator uses the yield keyword to produce a value and pause the function's state, so it can resume later.\n",
        "\n",
        "    How Generators Are Defined:\n",
        "\n",
        "    . Generators are defined just like regular functions, but they use the yield statement:\n",
        "\n",
        "    def count_up_to(n):\n",
        "\n",
        "    i = 1\n",
        "\n",
        "    while i <= n:\n",
        "    \n",
        "    yield i\n",
        "    \n",
        "    i += 1\n",
        "\n",
        "    Calling this function doesn't execute it fully — instead, it returns a generator object:\n",
        "\n",
        "    counter = count_up_to(3)\n",
        "\n",
        "    print(next(counter))  # Output: 1\n",
        "\n",
        "    print(next(counter))  # Output: 2\n",
        "    \n",
        "    print(next(counter))  # Output: 3\n",
        "\n",
        "    -> Key Characteristics of Generators:\n",
        "\n",
        "    . They do not store the entire sequence in memory.\n",
        "\n",
        "    . Values are generated on the fly using yield.\n",
        "\n",
        "    . More memory-efficient than lists, especially for large data.\n",
        "\n",
        "    📌 Example Use Case:\n",
        "\n",
        "    def even_numbers(limit):\n",
        "\n",
        "    for i in range(0, limit+1, 2):\n",
        "\n",
        "    yield i\n",
        "\n",
        "    for num in even_numbers(10):\n",
        "    \n",
        "    print(num)\n",
        "\n",
        "    Summary:\n",
        "\n",
        "    . Generators are defined using the def keyword and yield statement.\n",
        "\n",
        "    . They return an iterator that can be used in a loop or with next().\n",
        "\n",
        "    . They are useful for lazy evaluation and handling large data efficiently.\n",
        "\n",
        "7. What are the advantages of using generators over regular functions?\n",
        "\n",
        "    -> Generators in Python offer several advantages over regular functions, especially when working with large data or streams. Here are the key benefits:\n",
        "\n",
        "    1.Memory Efficiency\n",
        "\n",
        "    . Generators do not store all values in memory.\n",
        "\n",
        "    . They generate one item at a time, making them ideal for handling large datasets or infinite sequences.\n",
        "\n",
        "    def generate_numbers():\n",
        "    \n",
        "    for i in range(1000000):\n",
        "    \n",
        "    yield i  # Efficient memory use\n",
        "\n",
        "    2.Lazy Evaluation\n",
        "\n",
        "    Generators produce values only when requested using next(), improving performance and reducing initial computation time.\n",
        "\n",
        "    3.Improved Performance\n",
        "\n",
        "    Since values are produced on demand, generators can be faster than functions that build and return large lists.\n",
        "\n",
        "    4.Cleaner Code\n",
        "\n",
        "    Generators help write simpler and more readable code, especially in pipelines or data processing.\n",
        "    \n",
        "    def read_lines(file_path):\n",
        "\n",
        "    with open(file_path) as file:\n",
        "\n",
        "    for line in file:\n",
        "\n",
        "    yield line.strip()\n",
        "\n",
        "    5.State Preservation\n",
        "\n",
        "    Generators remember their execution state between calls, so you can pause and resume easily with yield.\n",
        "\n",
        "8. What is a lambda function in Python and when is it typically used?\n",
        "\n",
        "    -> A lambda function in Python is a small, anonymous (unnamed) function defined using the lambda keyword. It can have any number of arguments, but only one expression.\n",
        "\n",
        "    Syntax:\n",
        "\n",
        "    lambda arguments: expression\n",
        "\n",
        "    square = lambda x: x * x\n",
        "    \n",
        "    print(square(5))  # Output: 25\n",
        "\n",
        "    When is it typically used?\n",
        "\n",
        "    . Lambda functions are commonly used when:\n",
        "\n",
        "    . You need a short, one-time-use function.\n",
        "\n",
        "    . You want to avoid defining a full function with def.\n",
        "\n",
        "    . You're working with functions like map(), filter(), sorted(), or reduce().\n",
        "\n",
        "    Common Use Cases:\n",
        "    \n",
        "    . With map() – Apply a function to all items in a list:\n",
        "\n",
        "    numbers = [1, 2, 3]\n",
        "    \n",
        "    squares = list(map(lambda x: x**2, numbers))\n",
        "    \n",
        "    . With filter() – Filter items based on a condition:\n",
        "\n",
        "    evens = list(filter(lambda x: x % 2 == 0, numbers))\n",
        "\n",
        "    . With sorted() – Sort based on custom key:\n",
        "\n",
        "    data = [(1, 'a'), (3, 'c'), (2, 'b')]\n",
        "    \n",
        "    sorted_data = sorted(data, key=lambda x: x[0])\n",
        "\n",
        "9. Explain the purpose and usage of the `map()` function in Python.\n",
        "\n",
        "    -> The map() function in Python is used to apply a function to every item in an iterable (like a list, tuple, etc.) and returns a new iterator with the results.\n",
        "\n",
        "    Purpose:\n",
        "\n",
        "    -To perform a transformation or computation on each element of an iterable without using a loop.\n",
        "\n",
        "    Syntax:\n",
        "\n",
        "    map(function, iterable)\n",
        "\n",
        "    . function: A function that defines the operation to be applied.\n",
        "\n",
        "    . iterable: A sequence like list, tuple, etc.\n",
        "\n",
        "    Example Usage:\n",
        "\n",
        "    Function to square a number\n",
        "\n",
        "    def square(x):\n",
        "    \n",
        "    return x * x\n",
        "\n",
        "    numbers = [1, 2, 3, 4]\n",
        "    \n",
        "    result = map(square, numbers)\n",
        "    \n",
        "    print(list(result))  \n",
        "    \n",
        "    Output: [1, 4, 9, 16]\n",
        "\n",
        "    Purpose:\n",
        "\n",
        "    To perform a transformation or computation on each element of an iterable without using a loop.\n",
        "\n",
        "    Syntax:\n",
        "\n",
        "    map(function, iterable)\n",
        "    \n",
        "    function: A function that defines the operation to be applied.\n",
        "\n",
        "    iterable: A sequence like list, tuple, etc.\n",
        "\n",
        "    Example Usage:\n",
        "\n",
        "    Function to square a number\n",
        "    \n",
        "    def square(x):\n",
        "    \n",
        "    return x * x\n",
        "\n",
        "    numbers = [1, 2, 3, 4]\n",
        "    \n",
        "    result = map(square, numbers)\n",
        "    \n",
        "    print(list(result))  # Output: [1, 4, 9, 16]\n",
        "\n",
        "    numbers = [1, 2, 3, 4]\n",
        "    \n",
        "    squares = list(map(lambda x: x**2, numbers))\n",
        "    \n",
        "    print(squares)  # Output: [1, 4, 9, 16]\n",
        "    \n",
        "    -: Key Points:\n",
        "\n",
        "    . map() returns a map object (which is an iterator), so you need to convert it to a list, tuple, etc., to view the results.\n",
        "\n",
        "    . It's faster and cleaner than using a for loop for simple transformations.\n",
        "\n",
        "10.  What is the difference between `map()`, `reduce()`, and `filter()` functions in Python?\n",
        "\n",
        "    -> The map(), reduce(), and filter() functions are built-in functions in Python used for functional programming. Each serves a different purpose when working with iterables like lists or tuples.\n",
        "\n",
        "    1.map()\n",
        "\n",
        "    . Purpose: Applies a function to each item in an iterable and returns a new iterator with the results.\n",
        "    \n",
        "    . Use case: When you want to transform data.\n",
        "\n",
        "    Ex:\n",
        "\n",
        "    numbers = [1, 2, 3]\n",
        "\n",
        "    squares = list(map(lambda x: x**2, numbers))  # Output: [1, 4, 9]\n",
        "\n",
        "    2.filter()\n",
        "\n",
        "    . Purpose: Applies a function that returns True or False to each item, and filters out the items that return False.\n",
        "\n",
        "    . Use case: When you want to select or filter items based on a condition.\n",
        "\n",
        "    Ex:\n",
        "\n",
        "    numbers = [1, 2, 3, 4]\n",
        "\n",
        "    evens = list(filter(lambda x: x % 2 == 0, numbers))  # Output: [2, 4]\n",
        "\n",
        "    3.reduce() (Needs to be imported from functools)\n",
        "    \n",
        "    . Purpose: Applies a function cumulatively to reduce the iterable to a single value.\n",
        "\n",
        "    . Use case: When you want to aggregate or combine all elements into one.\n",
        "\n",
        "    Ex:\n",
        "\n",
        "    from functools import reduce\n",
        "\n",
        "    numbers = [1, 2, 3, 4]\n",
        "\n",
        "    sum_all = reduce(lambda x, y: x + y, numbers)  # Output: 10\n",
        "\n",
        "11. Using pen & Paper write the internal mechanism for sum operation using  reduce function on this given list:[47,11,42,13]\n",
        "\n",
        "   \n",
        "\n",
        "\n",
        "\n",
        "\n",
        "\n",
        "\n",
        "\n",
        "\n",
        "\n",
        "\n",
        "\n",
        "\n",
        "\n",
        "\n",
        "\n",
        "\n",
        "\n",
        "    \n",
        "\n",
        "\n",
        "\n",
        "\n"
      ],
      "metadata": {
        "id": "YRJK485LZiJI"
      }
    },
    {
      "cell_type": "markdown",
      "source": [
        "# Practical Question\n",
        "\n",
        "1. Write a Python function that takes a list of numbers as input and returns the sum of all even numbers in the list."
      ],
      "metadata": {
        "id": "HsQFKd6KNQSv"
      }
    },
    {
      "cell_type": "code",
      "source": [
        "def sum_of_even_numbers(numbers):\n",
        "    even_sum = 0\n",
        "    for num in numbers:\n",
        "        if num % 2 == 0:\n",
        "            even_sum += num\n",
        "    return even_sum\n",
        "\n",
        "my_list = [10, 15, 20, 25, 30]\n",
        "result = sum_of_even_numbers(my_list)\n",
        "print(\"Sum of even numbers:\", result)"
      ],
      "metadata": {
        "colab": {
          "base_uri": "https://localhost:8080/"
        },
        "id": "DI-lhaz3NbRz",
        "outputId": "867dfe2a-d059-427c-bbc4-e55a15bbcbe3"
      },
      "execution_count": 2,
      "outputs": [
        {
          "output_type": "stream",
          "name": "stdout",
          "text": [
            "Sum of even numbers: 60\n"
          ]
        }
      ]
    },
    {
      "cell_type": "markdown",
      "source": [
        "2. Create a Python function that accepts a string and returns the reverse of that string."
      ],
      "metadata": {
        "id": "6ERiSb2wN8RV"
      }
    },
    {
      "cell_type": "code",
      "source": [
        "def reverse_string(text):\n",
        "    return text[::-1]\n",
        "input_text = \"Hello World\"\n",
        "reversed_text = reverse_string(input_text)\n",
        "print(\"Reversed string:\", reversed_text)\n"
      ],
      "metadata": {
        "colab": {
          "base_uri": "https://localhost:8080/"
        },
        "id": "dDQF1ZmEOGEX",
        "outputId": "9c0c3987-ce45-402c-c126-f6a534c75139"
      },
      "execution_count": 3,
      "outputs": [
        {
          "output_type": "stream",
          "name": "stdout",
          "text": [
            "Reversed string: dlroW olleH\n"
          ]
        }
      ]
    },
    {
      "cell_type": "markdown",
      "source": [
        "3. Implement a Python function that takes a list of integers and returns a new list containing the squares of each number."
      ],
      "metadata": {
        "id": "sL3iCJPWOMZk"
      }
    },
    {
      "cell_type": "code",
      "source": [
        "def square_numbers(numbers):\n",
        "    squared_list = []\n",
        "    for num in numbers:\n",
        "        squared_list.append(num ** 2)\n",
        "    return squared_list\n",
        "my_list = [1, 2, 3, 4, 5]\n",
        "result = square_numbers(my_list)\n",
        "print(\"Squares:\", result)\n"
      ],
      "metadata": {
        "colab": {
          "base_uri": "https://localhost:8080/"
        },
        "id": "cSNtnmSNOWcO",
        "outputId": "a9e74023-deee-4bb2-de0a-7531447ce370"
      },
      "execution_count": 4,
      "outputs": [
        {
          "output_type": "stream",
          "name": "stdout",
          "text": [
            "Squares: [1, 4, 9, 16, 25]\n"
          ]
        }
      ]
    },
    {
      "cell_type": "markdown",
      "source": [
        "4. Write a Python function that checks if a given number is prime or not from 1 to 200."
      ],
      "metadata": {
        "id": "7KazdtHYObnD"
      }
    },
    {
      "cell_type": "code",
      "source": [
        "def is_prime(n):\n",
        "    if n <= 1:\n",
        "        return False  # 0 and 1 are not prime numbers\n",
        "    for i in range(2, int(n**0.5) + 1):\n",
        "        if n % i == 0:\n",
        "            return False  # Not prime if divisible by any number other than 1 and itself\n",
        "    return True\n",
        "for number in range(1, 201):\n",
        "    if is_prime(number):\n",
        "        print(number, \"is a prime number\")\n"
      ],
      "metadata": {
        "colab": {
          "base_uri": "https://localhost:8080/"
        },
        "id": "fwne71UnOiiS",
        "outputId": "be4984d0-d8ec-4b72-f3eb-95a36b7d7be3"
      },
      "execution_count": 5,
      "outputs": [
        {
          "output_type": "stream",
          "name": "stdout",
          "text": [
            "2 is a prime number\n",
            "3 is a prime number\n",
            "5 is a prime number\n",
            "7 is a prime number\n",
            "11 is a prime number\n",
            "13 is a prime number\n",
            "17 is a prime number\n",
            "19 is a prime number\n",
            "23 is a prime number\n",
            "29 is a prime number\n",
            "31 is a prime number\n",
            "37 is a prime number\n",
            "41 is a prime number\n",
            "43 is a prime number\n",
            "47 is a prime number\n",
            "53 is a prime number\n",
            "59 is a prime number\n",
            "61 is a prime number\n",
            "67 is a prime number\n",
            "71 is a prime number\n",
            "73 is a prime number\n",
            "79 is a prime number\n",
            "83 is a prime number\n",
            "89 is a prime number\n",
            "97 is a prime number\n",
            "101 is a prime number\n",
            "103 is a prime number\n",
            "107 is a prime number\n",
            "109 is a prime number\n",
            "113 is a prime number\n",
            "127 is a prime number\n",
            "131 is a prime number\n",
            "137 is a prime number\n",
            "139 is a prime number\n",
            "149 is a prime number\n",
            "151 is a prime number\n",
            "157 is a prime number\n",
            "163 is a prime number\n",
            "167 is a prime number\n",
            "173 is a prime number\n",
            "179 is a prime number\n",
            "181 is a prime number\n",
            "191 is a prime number\n",
            "193 is a prime number\n",
            "197 is a prime number\n",
            "199 is a prime number\n"
          ]
        }
      ]
    },
    {
      "cell_type": "markdown",
      "source": [
        "5.  Create an iterator class in Python that generates the Fibonacci sequence up to a specified number of terms."
      ],
      "metadata": {
        "id": "CTTcTaHKOuxv"
      }
    },
    {
      "cell_type": "code",
      "source": [
        "class FibonacciIterator:\n",
        "    def __init__(self, max_terms):\n",
        "        self.max_terms = max_terms\n",
        "        self.count = 0\n",
        "        self.a, self.b = 0, 1\n",
        "\n",
        "    def __iter__(self):\n",
        "        return self\n",
        "\n",
        "    def __next__(self):\n",
        "        if self.count >= self.max_terms:\n",
        "            raise StopIteration\n",
        "\n",
        "        if self.count == 0:\n",
        "            self.count += 1\n",
        "            return self.a\n",
        "        elif self.count == 1:\n",
        "            self.count += 1\n",
        "            return self.b\n",
        "        else:\n",
        "            next_value = self.a + self.b\n",
        "            self.a, self.b = self.b, next_value\n",
        "            self.count += 1\n",
        "            return next_value\n",
        "fib = FibonacciIterator(10)\n",
        "\n",
        "for num in fib:\n",
        "    print(num, end=' ')\n"
      ],
      "metadata": {
        "colab": {
          "base_uri": "https://localhost:8080/"
        },
        "id": "0_YzEJfRS4Hh",
        "outputId": "b7de7028-6ab0-4aa2-c354-a092e393aeac"
      },
      "execution_count": 24,
      "outputs": [
        {
          "output_type": "stream",
          "name": "stdout",
          "text": [
            "0 1 1 2 3 5 8 13 21 34 "
          ]
        }
      ]
    },
    {
      "cell_type": "markdown",
      "source": [
        "6.  Write a generator function in Python that yields the powers of 2 up to a given exponent."
      ],
      "metadata": {
        "id": "dLSGn30YTEDs"
      }
    },
    {
      "cell_type": "code",
      "source": [
        "def generate_powers_of_two(max_exponent):\n",
        "    for exp in range(max_exponent + 1):\n",
        "        yield 2 ** exp\n",
        "for power in generate_powers_of_two(5):\n",
        "    print(power)\n"
      ],
      "metadata": {
        "colab": {
          "base_uri": "https://localhost:8080/"
        },
        "id": "WmnOJdVQTL59",
        "outputId": "94b824bd-8e5e-424a-9cc2-0031a42b811e"
      },
      "execution_count": 25,
      "outputs": [
        {
          "output_type": "stream",
          "name": "stdout",
          "text": [
            "1\n",
            "2\n",
            "4\n",
            "8\n",
            "16\n",
            "32\n"
          ]
        }
      ]
    },
    {
      "cell_type": "markdown",
      "source": [
        "7. Implement a generator function that reads a file line by line and yields each line as a string."
      ],
      "metadata": {
        "id": "jvIZEoYhTWYp"
      }
    },
    {
      "cell_type": "code",
      "source": [
        "def read_file_line_by_line(file_path):\n",
        "    try:\n",
        "        with open(file_path, 'r') as file:\n",
        "            for line in file:\n",
        "                yield line.rstrip('\\n')  # removes newline only\n",
        "    except FileNotFoundError:\n",
        "        print(f\"File not found: {file_path}\")\n",
        "for line in read_file_line_by_line(\"example.txt\"):\n",
        "    print(line)\n"
      ],
      "metadata": {
        "colab": {
          "base_uri": "https://localhost:8080/"
        },
        "id": "NpvNFA37T3hL",
        "outputId": "cf3ac1d6-e9eb-452c-9659-6616a41de96d"
      },
      "execution_count": 30,
      "outputs": [
        {
          "output_type": "stream",
          "name": "stdout",
          "text": [
            "File not found: example.txt\n"
          ]
        }
      ]
    },
    {
      "cell_type": "markdown",
      "source": [
        "8.  Use a lambda function in Python to sort a list of tuples based on the second element of each tuple."
      ],
      "metadata": {
        "id": "WPi6XUncUi6w"
      }
    },
    {
      "cell_type": "code",
      "source": [
        "# List of tuples\n",
        "data = [(1, 5), (3, 2), (4, 8), (2, 1)]\n",
        "\n",
        "# Sort based on the second element (index 1)\n",
        "sorted_data = sorted(data, key=lambda x: x[1])\n",
        "\n",
        "print(sorted_data)\n"
      ],
      "metadata": {
        "colab": {
          "base_uri": "https://localhost:8080/"
        },
        "id": "2Bzua4HHUsjW",
        "outputId": "e01afa5e-1388-4a29-b496-f6a34478afc6"
      },
      "execution_count": 31,
      "outputs": [
        {
          "output_type": "stream",
          "name": "stdout",
          "text": [
            "[(2, 1), (3, 2), (1, 5), (4, 8)]\n"
          ]
        }
      ]
    },
    {
      "cell_type": "markdown",
      "source": [
        "9. Write a Python program that uses `map()` to convert a list of temperatures from Celsius to Fahrenheit."
      ],
      "metadata": {
        "id": "DdlwKtFjUwSK"
      }
    },
    {
      "cell_type": "code",
      "source": [
        "# List of temperatures in Celsius\n",
        "celsius_temps = [0, 20, 37, 100]\n",
        "\n",
        "# Convert to Fahrenheit using map and lambda\n",
        "fahrenheit_temps = list(map(lambda c: (c * 9/5) + 32, celsius_temps))\n",
        "\n",
        "# Print the result\n",
        "print(\"Temperatures in Fahrenheit:\", fahrenheit_temps)\n"
      ],
      "metadata": {
        "colab": {
          "base_uri": "https://localhost:8080/"
        },
        "id": "hkWMFz64U7Y6",
        "outputId": "8271942b-167c-400c-f81a-bbf77355a8d7"
      },
      "execution_count": 32,
      "outputs": [
        {
          "output_type": "stream",
          "name": "stdout",
          "text": [
            "Temperatures in Fahrenheit: [32.0, 68.0, 98.6, 212.0]\n"
          ]
        }
      ]
    },
    {
      "cell_type": "markdown",
      "source": [
        "10. Create a Python program that uses filter() to remove all the vowels from a given string"
      ],
      "metadata": {
        "id": "NRQ2YVuaVFD_"
      }
    },
    {
      "cell_type": "code",
      "source": [
        "def remove_vowels(input_str):\n",
        "    vowels = 'aeiouAEIOU'\n",
        "    result = ''.join(filter(lambda char: char not in vowels, input_str))\n",
        "    return result\n",
        "\n",
        "# Example usage\n",
        "text = \"Beautiful Day in Python\"\n",
        "filtered_text = remove_vowels(text)\n",
        "print(\"String without vowels:\", filtered_text)\n"
      ],
      "metadata": {
        "colab": {
          "base_uri": "https://localhost:8080/"
        },
        "id": "Nwsn7emfWSve",
        "outputId": "7e4c780b-5a74-4c4f-8540-5449410985a3"
      },
      "execution_count": 33,
      "outputs": [
        {
          "output_type": "stream",
          "name": "stdout",
          "text": [
            "String without vowels: Btfl Dy n Pythn\n"
          ]
        }
      ]
    },
    {
      "cell_type": "markdown",
      "source": [
        "11. ![image.png](data:image/png;base64,iVBORw0KGgoAAAANSUhEUgAAAgEAAABNCAYAAAA/47dfAAAAAXNSR0IArs4c6QAAAARnQU1BAACxjwv8YQUAAAAJcEhZcwAADsMAAA7DAcdvqGQAALxISURBVHhe7L13YF3Hdef/mbnlVfQOkAB775RIiSLVuy1ZckskO5Jsx06yTtnkl2zJZhNls5vddZJNYifuRbYsW12USImiSLGKvRMsIEEARO8deO3eO/P7494HgrQkdycW9ZVA4N333i1nZs45c6rQWmt+QdBaI4SY+P3vEVrrifv793qPvyz8Ip99YtpoENI/17uNu9YaAUz659Lxd/jOLxvZZ/hVztnJ13wf7+MnxVU7bzSgNQiBEhoQiCwH8V++j58T8soDPyt+VUz058EvSgD+OkNKiRACpdSVb70rNKCC3wTMyF+OPwk0aA+tvcsVAED/G45Fdi5klaNfJq5aJv4+fiHIzptf9jz9dwcBSAECNMLnGUxiRO/j58YvTAkAQUtrG02NF/7dMjqtoaGxkb6+3qtyEmUcl/Pnz9Hb0/NTq9AimCxXfmt4eJgdb25joL8PAP0OhBUClOdRW3uSDRtf5eCBgyRSaX46VeQXi/oLDfR2d6G1Rspf4FJ4GyilaWxqorWlGeX9Wz71+/h1guu6XGho5NSpWtLp1L9b3vrLQjKZ4uTxk9TXn/OV9clvvj2reR8/JYy/ePzxxyUKSJMa7uP1bbs4sHM9DQ3NpErmURgzMD3w8MDTCO2BgISQGG4SoU20zCBUgn2vP8nOcx5rVsxCqxGSIjwxUJ5IAA4oCxeNFA5pDAxGENqEK0yyWUvP2GAfO9ZvorZrlKoZUzDHGnjj6EXsnFxywjZCeYwJiT3ez6gdRaJAjyEzJhgy2G46IBTCTfL6M0/R7xpU11QipYOHSRKBnQYMBUqQlBrTS+AKjeGauFrjygwCD5SvjSL8ffAvwwKiATxQUpHuvcjOjVt4ec8Rzp3YS3drG6q4gpzIEIYTYsQwsFPgmmA4ipQBZqYdrXJxDY3hgdIunnQZ7W/mh09tJBwrpaYmTEbYmJ4AlcaVJlIDQqNRCCTpVJoTRw6zdfOL7N/1JnsP1HH49GnSYwkKSgsJWTb9DUf53//wNWauvoHqklwEBp4ap7XpAEdOjFE+rRRDKwTgaU1vZy/nDr3K5lMdXLtkBTlxGw+BodIoYeKiMVQCLcDVBkYw33y6TNoJoBAotCcRYpRxEQINhuehZQoHMJSB60LSAEODxAHAVRIpR3j5qa/SYkxhTk0FJi5KGAit8IRAaoXWkBGaRG8re155moPNLmVlU4iEMyg0Uktc4QIKpSRSZ0AkSKXh9NYNnExazCwrxAW0SrLjxZc505mkZm4ZUSyQKUaEhe2M4xkSqSSQIiU8hDbJoDC9ETI4ZAhhkvGfW8hA3fJtMz5dfNr8YmfiVQ6VorvlJC9s3snpnUdo6OvBKiklLxxCagUihVImQgNKkJCjOISwPAelJCkpsDS+GVtp0GkAkkIiXQdXSFICbEZoffp5npEzWVmcwBMW2pNoqdHjCfZsfZVdp9uZu2AxuREDtIDRDp59fQfxqmnkGQ5aWviX0QhGyBBGeA6OcBAqjScNnzf+Ivd9PyE0iqYze9n83Hb2HT1J7ZG36NWSkqIyQoYEehkTMSwNwkvhShMHjYnHcGczrz7zA3oGosxbUo1ppJGOiRKClNCYIoGLBQik64AHruE/qfDZdWBF8LnGhPVSAyIDKYlnCjK4mI4E6ZIW/Rgq5ssMnQY0njDwNMiA72SEROo0QqdxhU0GMLXyZZwwwFN4Mo2rTHR6jBNnD7LjlRfZvu0Ae07WMTg0SHlVESEZItV+jPWbTlEyfyYx4aK0xBMuGhfpGWhctEgjlAFemrQAjUQID+H51tSkcLGU8HdbPyWkTxoHUgO89N1nuTDSz9wF8wmnxvneN7/N6aE0SI0hDaRh+IJVGD478pyArAYYNplEFw0Dwie4HsEALKExRJZxe0iZNSWbAdMyfKJNHiAuaXnJgT52b36Nb35/PXUXGmBsjDcO76S9dwjJOEiDJIA7hgm4SAyRBIxL29fsLk86JHo66B1Jg2kjCaMRpMkALohBMMBGIIwIjpC+EVxqwERiIQJzOoEC8EuB9i+rUIz2tnBq3z48K8b82TPYuvsQG99qJJF0Afzpb/u/tSXJoEEmEdL1Z78hkFLgYGGnE7R3NdCTyaBcmxAplAEoE8HoZRfXgCENSktLWDB/GomBDtqb+5g2Yx6VFeUIw6dp5bRS/uzP/j9Kp1aCcnyfgfRovXiYHbtP+uQX/lgIU7J4yRJuXT2XARdc17+WB6BTSMBEgPTnQgZ8hqf9nXNWAVA6+5fnTx3hEQYcAWgPgYONBRJMC1zA1f41EEkMw6dcaqiF5nHwNKBd3yqhs/ejUAocMjQ2nGTf1tfZt/84TW1jaBwM0iDAQ6PwMAQgLSCFKTRndm1jT91FCASzdNMkOjvoHfFwLAmGgRZhwEEojYmLJwEhsQkhhIer06AiSBlGCxDCRAgLrYUvU1BXOGnexy8OmvG+JrZs2khXSjN3zjwaTh/jxde20TeaACF9NUwAIgUG+Gwb0A7SFNj4g+/h/+HzDgMbMEwLTwhMxoEw5za+xutnWkCEkRgIAQ4uVjTCDTet4c777yAUN/3xFkBygA2bttI5qhCm5d+yACkFWoQCtqexhANGePKD/cohUHScOkLtmfMUTp3OlJoKXnnyBXbtPUvS0yCSvtAWvkQygDS+C7G4tJgPfexDrLtlDcowENpEKIUhFaYQCCIYCH99Kw/wMHzujzB8WnkK/IikSQqAJmCyAgPHX0sGIEwcLD8MAQUiBMLCCFiRiwDhbyaEkCAl0pegaOWBdgP+IfACviO1prgkn6pCi9ojJxB2DlOqq/3rScj01vPiS1sZD66vJQg8X2kzQEgTiYGWAkQaTwgMAdIf8GCumNmJ9lPDePyvHn9ciBTNJw/ynecP85E//DTXzl5OQa7B8TeeYahkNSVuI9tff509h86zceNLnDhxkuKZsyiPhjh9soXvPPtttr++ix07XsOedjf3rZlJcqCVJ1/YzWvP/wtnjp8gHC+lsmwqtXvfYMe+Mxzcu4cNm1/lyJ79VM+cS05OfMI/LFCBxUGQ7munrv48zeOSsnKTmaU1bK59i5ULVjB6bgPPbBph/tJq4iLD5pe/T+1gPoUDp/jhiwc5Vr+PY4frOHhgB4eOH6V66izOHT5Eu5fD8aOH2P7s87hGMVNr8gkZaQ4cfol//vLr7N+zh/5z7VQsWYqZ7GHHmztZv+M4R4/vZcMLT5B0o1RVVhGyzV+4FWACCrShSPS00HSujYW338u61UvYeqAeZedw3aIFmEN1fPfpDby0+TXe3PBD0kXVlFeUE1EeJ49s559+sI1jb7zCxYZWCmpWUOo08/rB4xTOX83y4hhf++LX2VHfxcyZleTagAjjb2s0YGBISV5BPpVTS+ltbUOGKrnngbupKitAGpJtr21n03PfYvfBBuZcv5aKmMVQ/wjf+O6X2fLq0+w5NEbz4AXOH6slnldAaXEBQhoke8+x/cIYt1yzktycMAYucrSfJ595jR++spkTb72OY4UpnTqNkAoCD4WcWLtSgETT1tzIN597laPrf8imN3ZQvGgdFTHNsdc38cqbRzlw5ABbXv0OA0mbadUzCIshTp09wJPPb2HHG9s4tPM1yq//CNfOqiAkXJSwkFrhCYmhFRID1xvk1LGTGHYh4KByS5k3s5CO4zv5wdYWFs2Zgjbh+A+eYG93hIjRw1Nf+xp7Nmxme0+K4cYzNLd3M6WykKbaU9SPeFxoOcPBl56mMzWFBdMU2EW0njzN3z67niOvvcK+vUeZM30pZlxz4dBOXtmxi8Onz7Lp+1+hs7efyprZhMMhNAIZ/AgdqNC/pOl41cFLcebABjbsauHDv/P7XLOghvxUC5v3NFJVmcOujQeRhTEKC2KMdBzjG19+g/nXryCiJecOvMm3n3me3Zu203yumfKVCxk4c5ZdG95k69ETvPn685w8dpGaGfNIdB7hn558mZPPbmR7OsXo6VqOnTnCjKnzyLjjvPK9J9n06osMGfksmDuPmJFhx47tbHjyW7y44zQtPRkuvLWRnkSaiuIcvvH3f41RdT1Ti0wS4yPs3rSZfa1Jls2cSiBdfvXQHl3HD9Mo49x8/4dYvXgOdRv20jCWYt6109j25Jc40abZ/voOdr34fZoGx5m/aCEDLc187/s/YOeBM5BTyIzZVViejTR66brYyHe/9yxbN7zBiQvdzJw+l3hYkRjo4KtPP8srr71A3Ym3iOfPoKwkH6UnQgsu0UCY9Lbu44lXvsXJCw3s+sFO9rxVT+W81RTnegy2N/Ot5zaxacN6Gs8cxi4qJ7ewkOZDm9mw5wxH9u3lzQ0v8sa+k8xZdA2FEX+z42BiCoUnTBQKW0rycksoiiU5VtvF6tvuZvXS2XhGileefIU3X/4W63e10JbMcHrXqxAtYHpJLkOdPXz1mfVsWL+e1jOniFVUYboDPPnMLna9tZtjh7fS1TzKs09+HV0+g1lFRb5i8VNCSuFrLxfPn2KosoZZ+SXoQcgU53HNLE338R6Geut5ZtMzpFSYj//Gb9He3sXBw4c5d/wYT/3gOdbedhePPPoIN95wPVJ7KJXi4LY3aeno57d++3PMmTeHHdt30946yGB7HU8++QKxSDGPffxuLjZ0sfOt/TiBv+fS5lr7u3NS5BYXM3/hDDrbWjjX1U5I2GjbZuTiEbYe6PMVwEiMjhOvcrLFYai+nm88/TLIUQ4cPEgi7TAwOMTphlYc16OppYdrr7mBB+++ldd/+ARNgynaTh7iO6/s4dGPfoCPPvRRkr3NbN12CGmkOHhoH6+/cZhFS1ex7ubrePXVrVxouAj88gPKhJS0trXyT//0T/zZH/0Byd421i6vJi9s8MQTP8TOL+QTn3iYj9x/O+u/968cax6h61wXT258hTtvv40HPnofvQP9vPbSLsYdjRSCdGaMf/ynv6e3O48bb1xDbs4YeDlXXjrQmDUoF+VpfwfqAZ5G4bJy1Qo+cv+HOFd3gb6hBGiTeF4O933wQ9xyyy2sXLGShx9+mA996ANUVVVMnFN7Llq5aKXxRa3H7tc30tXewSd+6xPcfe+9vPr6m1xoHggyD3xTkpiIS9AoN4XwHG77wJ185LHPMTsvzhe++g3SyqPn5Gme/eGrzFu6kpvXrOHM4eNcuDhCw7ET7NpxkGXXruKRRz/FkiVLIcsTfmQc/WuO93bR3jnC1CU3MKfMpL1vhBFlkuw4y56jbTgJjUTQf3wz+xtSVFVO574Hbmf50uWsW7OOTzz8MLfcfCM50Qiu69DZ08nihcu5446lvPT063T0dNM5eIZ/+MenWX3TNTz8yKepLoV//N9fYXgszZkL29m4aSs11Qu47/Y7OHLwMGfrm/FvWfqWNJ11e13xCO/jZ4abHqOj4QTp6GzKCyOk5QhTig3kWIb+3nYO7aujdSCNJkF6tIk3dx5BEMJMZcjLi/LhT/4mD95zD92NjWw+sB9noIdNz25icMTlIx++n6GmerZtP0ReSTUPf/zjzFqynBXLlvDIJx/mgfsfJL8gRiwe58577mL27Jk0NrbhOgKEYtmKJTx4/4PMnr6ABz90Jw898hhrrluNFQIv0cKWrQcASV9nAzu3HyMnv2xi4/tvAuGbqYXOruAQVjREbjyKdhPs3vw6O3fu4abbb+OO22/h+Wefo6O9l5LKSu764G3kxyM01Hf6dhYB4wPNfO1fn6SispqHH/0Ea9fdhOu5kBnjqe99i1A4xCOPPMacWXN54YWXGR5N+pa6t8HI2Cme+OYLhIwSPvaJ+ykqDfOdb28mlRpk12sbSBDm4U89Qnl+hDe37aJz1GW45RRP/OA5QnllPPTwIwwNjfLiC+tBSECihfZdDSqwGmiFwkSLlM9rgh27geCm22/lrrvuYvbseTzwwH184pO/xcw5M0j2D7D5hRchHuXTn/ssOUaU17bup6Onk5fWv4STyXC+9ij1zd1URi027j7+Myt4PvfwXNKpJG4ohKlAe+AZBlFboxIpDJ1ixtw5rL7pWmbPqeaP/vD3ue2mGzl17BjFZaXMmbuQmppCqvNtoiRJjA7w5vadmLmlXOhJ0zOS5vz5Bs7UNUBmhIWLlrNq7c3MnFXNf/5vf8VNN938jr4MJQQIi7nzZyOTSeouNmA4gjSCkJvC1ba/QyNCWI2QIEpUulTPXsj0aVOxLJsZc+YihWYk5WCbgsVLV7B40XwWrF1AWXSYU12C82/uoSU9B/raOd3eQSrVwJ69R/BEhljcYuWKlSxfspybb7qVP/nTzzNr1nTgl59poLWmqKiIu+66i4c/+UmKxhs5u/ccHWd2cajOZNaNNzOvagYrbljNmpwMew530XTgCPaU5dywYg4zF89h1pLZjPWfo308iptp5zv/788YHpvCx3//oyyeUURU5DNq/hS+QgmgKMwvoKK6BtuKoHy7FYZhMqWqmvKyCgoK8phVUUnVlCqisYgvZ7XvU5OAyK5MN8FrG18mPz+P1rYeunsH6R0Y5PjJU5eiEYOPSrRvKjMlpSVFDAz10nOxDdsd53RdHeOZDFGpWHLtOm64biU15XOxM730jbdxsa6eiDWL+fOWM2VKOXn5OX62BAGjuhI6zVB3K6MJm+lLr2H5kpkMtDfR3DGE1uOgTRAGigwG4wgjl5BdxJSpFRTk5VFUWMDUKZWUlRZhmiZaCKbPmsWyeUuZvmA6qqeTzlQu5/c9AwWLuHnJfKbOnMmdt9yEMBro6K7FMiqYN/MWrl+7mBXX3c/v/8HjzJ030/e6vM0tv49fDLRWZNIpMKMYAlw8hPDAcZDKQ3gunhFFIDG8FEkvhOuBFRLECwppbu9goLOd1Pg4Fzu7EZlxKqbMZvWaG5k3bzkzrCG6esZxw1OYVREmXJBDtHw6NTVTmFI5FdsysEyDoqpyikuKffuoBpDk5xVRNbWK3HicqooKaqZPp6CokGg0xr33f4gLB96kdXiUlgtnycSmsHpBDal/KwUAAM24qUg2dnHyrf0898wTNIVS3Hn7WspNA5lW3HrrbcxdUMOydev4+//zfykvKsC0LKZOyaWmwCWSiWFgYBhw7PRFZGw+i9fdwvQ5FcyfX0ZxcYih3na279hJNFRIa/MgQ30up0/XcaG+MWAf+gpNSIHKUBK/iVtvvIep8wpZe0c+Z86dpbOri+MHDyKMEB0dgwwMDFJ3/gIdXT1IL8ns+Yu5du06ps6ew5/8yX/k/g/e7QtOFUQfiOx1/N2LwHcXaM2E+1tiUFJWTEVlJdFImNmzK6iunkp+Toyxrg727duLFQrR3t7J2Mg4p87W09LaTEFxPouXzMXWKSpnLmJGoc2F3tTPrgRobYBpU1QxlXBzE70SZBzyxx0uthnEZoZACAqtHOxoGPAoLy8lLxIiOTZIKBz2BaEzjvbGESqD9ByGB4dIpTVNbQNkXItb77yNuYvnY2IQyYthRmxQmvKaIspL8zDxY2cu58USR4RxlEF12RRmlBVx7vBJegdGEAIyWhI2BjF0GolBmjgeDmkccqJRbB3GEiYhK4KJiysFlqXJyfEXNrams7uTTFqRGsngJSWdbd10DQ0yZfYUHvjgvQjPwDQU8RyBZYJh5TB1ajHRSOCH+xXAtkNUT61m+bU3cM9N19DTMUCy/yJpLwcZiqCToISJMT5Ketwjkx7CosB3ceHn144mO0jqNNqRVOTk0dhxln4HQhhAxvenvysEQvi+Sv+VRovs7lMiA7+kEL7i4nkKoTSZQJFRAjzl+6+F0Hieg87634Msg8HhEbp6eukfHOLmm29h5TJ/p+5fyIfSvh88NTLE3/6Px9myYSPn+0cYGutBeCBc0FYGVZhPGBAZTYQkCcYYHegDNwc/KCCD53kIIYPnuGIbLcBzk5yoPckTT73Cf/uLP+d///3fsffl79DY3M2oNAirMYTQmCQZsnMJpcYCNcUAnUF5GciSSPjH7VAMS1pgmoR1EkcW4/Q3ES8sIYbtRxiExxkeTSM8A0skidllmFhgW0yZVkR+PDTpRpXPcH7s+L2PnwbSipBXMgM90sCwBzFySTg2sZJcciI5hEQ/npBowkR1DGXmgoCu+pP86X/9G44dP017fy/j6QQoE0slcHJyMWN5gCBXj+DJOEltAkN4wsPxUuB6gZjyY038yCAPz/PQCjQ2GgMhNEIkMYRGawcBKBFh2rKbKLd72LZ1J/Wto8xZdT3lMRd5+TL6lUIjcS2TzOA4ne2dhMNhfvMPP8fcORWEnHFMDMLxPBwBMmQza8Y0cm2J1i6QxtKjyIyJ8CSQZmAoiQzH0SEbjYMSHoYUeF6aVCpDJq1pbxlCe2Ee+s2HqK6e5sf9TEAFbs8EUtmEmEE0GgblkhGNpL1hMp5mPDWGM9pLc0sLRm45d995N3Mqi7ClQTheiBkOAZopZfnUlOf6W3yhfOah7EDym4Af3CdECCH9IPuAEwL4Y6kVUgHaw9AaV7kMjo3iDo/T2d5BXnkRH7znA1SWFmOGTEK2TUhn8Ow8wt4wo0YUlM9vflpIRwvAZsbcJUQGWzh6/CiEFcMXeqkdrmDduungmng6BFIGgsUjAkwtK6W/qwslBJ1d/byx7zCONAhHwyxfOJ88y+CTH7qHRx/6GPfedycl5TGEF8aRLsrwQMVwAUNrpNZYE8xYooVPvIyI4YgYEQxuvn4NXmsLx853YWUkxKsxkmeRwqHlbAsv7ziLkAnciIHlOVhuFEMJtAJDu3hocBMI4WLZmoYTrSTic1lZoShZvory5H5WPvAIn3rgQ9z1yf+P66+tRjshhOcgxSCG0ggvhKF/dcFYWimUUliWBWhaUhZ2SYSimQvJNZroqjuJjEBP3ziHh8Pcdk059tQC+o68RU8CVELT39ZHQc18phWBaUzhNz71V9xyeyHf//o/c74jg5KCHxc6pDV4rvZj9ASBMCcIuhRoP5rPhzAI2TajI6O+IBZ+9Lo0DJBgorFNE8Mw/K+YNosWL8UKR7j/Q7fzsd/4TR76yIPMnJL3IyZM6V+U/t5eTtUe52P33M/aj3yU4mklyLTG8jRjRoKxkK+U2FYSKyMxrVKqSooYGOpkKJ3k5OkGjh49QTKZ9IfySkuAgOGRbjr7Bvn8f/xTvvC3/5u/+X9f5pO3LaW9rY/RcBxzvB1DQEvXGZ7aV0d+ZgANODKHnJjF2Ohg9lRopf3gUhkGAabrksIglkoxd/laju96nrYOB4MUpy6eR7KQKSVzMPXAhGDw7BSGkcEETADtBzTpgMHrn8KY8z7eHYYdp2LGavToBU7XNYA22XSsFSMvxJxps4ha/SSdBKYOsf77m2nrG0ZYigt1xxlKCB59+NNcc9dtyFgEmZGYpBkMC1JCAGM4QpIiRBQFWNgFuZg9J0D6a0IIgQwMtUJpTEtgWSD8kD8IWRgyxeBgL0L6cwBMDLOUB+9YzP71z3NqsJDr1y4GlQY8Mv9G80OgCblQuXA2d99/Hx+4/wFWlFYiANdUKG3jCsPP3RG+ZU4oEMIFEcIxC/DsTLCDFsydOY2O1jcZ7RxA6DwSYwZDIxkKCsuoqKggvyDOJz5xNx//5Ef44AfXUVgYm7S8s9YA/7fGBTmGEVKgyti14yjXXruKouJSyqZOZWZJiIc+/iEefOQz3HH7WspjBo4ycUSwCdQKE7A04PnZO/5x009P0CYoF0kG7Yb9hWoGwcqYaA/CVggnOUomCeARFhKzuICpc2YzvaiUj3/kQzzw6EPcfcsyynJDuK4ftG14Dp4ZJuQMMS4tkD+bEmD8t79+/HETiOTEmDGzkq9+6ZvsWv8dzjZ0cNPn/yc3TIvQ33yBc0NJ5s5dTlmOCRo86TBzSjlbdh7n2899l66BcabVFDEcW8Fdq6cytSjGpu21vPLUF9nxymbODfQyddYs0g3naXBNli6ZT4EVJWUYhIT2zcTCFzZZoSEEDA+PU984QEVlGXPnT8dormV9V5gH1lzPtQuncujoaX7wwhP0nOoiXlZMaM41LI42U3cBli2cRWNDKzPnzWK0v4XYjMUUJlr5+sb97Hn5Kc6faOWmT/4F6xYkyJuxjLKxV/ntLx5gz2vPsmXbecori6jJz+XU2cM44RBrlq9EKAslx5DC9P2xvywEgYHOUBc7t+zhu2/s5MibL+EWz+HOj3+QmsoqlpQO88R3nua7L73Mvl27ufaRP+POFSWUVhdjNtXzh199gdo3NlEUL2btw59ieqqFXbUXKF50PY/esYKTJ57nmxvqWLbkdqryhoHIZYGBfoEuDSRpOnOBlCpk3rK5RG1Ik+T733yKp778dxys7WJvQxPn9mznhhtuww5rCnMVR0+m+Oev/y2nDtWSX1JNPCx4+mtf4/knvsDr50Y4/tYxRjIjLF84k2UzZ/D8Gwf4/otvsHXD9zlae5aZc5dTFPfTf/z/swvYI2oJmi6c57kX3mDzqVoKvE56MzX8xq3X0NK8h1PmXB5YOZtk3ykunhklNO9mbluYw1u1J/j6C9/DHI1Sme8SXXgrS2uKCHFlYKBLe9Nptu05yF0feoSZU2LEcnPIHWxhXwfccvsceup6+dYPXuLMhU3I+HwWlc1l8eqZZAyD0oIwT711gtee+iZN7b3MmD6NrnMXGYpUsHjxdArTTby4Y4D71sylZnENseEM/+c7W9m//p9oHsjhc4/9ByqmKrpPd9I7OpUlN+ZhCIkkjNAKIfz14k8V30niq8/v4xcDQX5+IVL08Q9f/g7bv7+B8ZwYDzz0EAumTKEgNML//P7LvPXCHublWdQ70/jgbyyhVI3x8vazvPHGG5xtOUdUmhRNX8Ci6Ag7+wWzFi5iTvEYtXtOMFJyA2sWShzL4tqa+azf/TQvP7GJfcePMHfWIgbH2/nXv/kbtrz+CjtO93Lq6FnKi/KpqqpAhjKISD7/8vVvs/uFb9M9HmLxggVIC/JlOy9970XEqs/yyRurkJkkSa3xDJvJNqRfHRQDp05y2g0x+9qVlEYEckyibEHa6OXQxu1UrP0wU6ryiJMB10a7DqeP7eKv//4f2LLtOPvP9HLiTCPTKgpYuLCc4twBvvnl13j12dc5erqNa6+5htw8g3kzqnlqw2s89YOn2LrhRVo6MyxbugjT9JXxIME7gEN/236++dROdp/4Ibu+X0eoQPEbn/pDSvMEVUW5vPH6Br77zCs88/pe0okE86fmM9h8juNjxaxeMY+isJqU3Zb0PQxGCFMpPJlE6RCkR3htx0t865++zP5D9ew4VU9v/yDz588gx4pg56cZHS3k77/+JU5ueho7VMWspTUUFZex8bnNPPnU93l560ug8plRZLGztoPl82fTW7+P2IIPM3t4J69Y1/Lbq8pA/rjt3I9CTC4b7ABO2kVnMthSYIX9NKuMcnGVwjQtTGH4jCYIRlKOJpFIEopJTNPEcVzsUBgNZDIZMhkXjwyWDRE7B8+RKE9jW35qA/ipIL7vV/o7ymD3hPJNya5ykVJiGAaO6+JmMoTCYaSUZDJpEokk0WgUaRh+xrQwyDhpLMvGdR1MaeApjWFIlNKkU0k0YFomYTuEkBLP8zAMg1QyieO6GIYkFPKv4TgOUvrP9yuB53NzJYK0IyeDl05iaE0oHMWw/KWstCaVTJLJZLBMi1g8NlG3wHU9UqkkALZtY1uWnw6ZTmFZFoZh4LouqVRAO2lcMm4I3+Tuj4KBBlzHAe35Fgkh0FqQSqfIpB0Mw6/xYBgm4XAIKQ0/xz6TxnH8dJpQKIRhmCRTST+YMrhP27axTD9wyHVcEomUPzZ2GCsUwpQaPy8gWMIT01XguB6ppEPE7iajazCNYWw7TCodImJ2oWU5Wmt/LhgGhmmRyWRIp9OEQjZCGEihEdJ422JBnuebYU3T8OkDOK6L9jxMO4TrOjipNKY0CFm+aRDTCOZ0kkxGklAmltRELEC7gIE0/bFIpRJYdgjTMPA8j3Q6RcbxkNFcckwQOLiuJoMkZJkYKuUznOwu5G3gXyGrywVjKASe8I9JJi0u8CdaVu+TV5hdrmaVQuOnnAnFrl3b2fTGZh78yENUTZmOYUUpzo+QSY3jeYpYPI6TSRMK+Qw4lUr5a9KyfL4lJUIauE5wzDDIOA7ac7FDIbTwK2m6boZEMoE0cglHbDxPk05nkGik9kB7/nqxQ/5GSWvGRkf9NDUB0WgM3HEamtr47//r7/jP//XPWTxvpm+n05kgbfpXxMOugKcUynUxjCDVfBISiSShkIVh+PeW5WGO45DMuCgkYZ3EMgTCjqEMExR4yVFSrkc4HMYOaAKQTqXIOI5vgTAEVigG0uci/tz3ABfhhjhd9y/81X9p4J+/+zh2zjA5qho7PIbUcTSadDrt8z4BtmVjh0K4nofyXCzTTxn/SWrFOI5LOu3XHFBKYVsWoZDvas8+ayaT8d+zbUKhEFoH13ddhBCEQr6scoK55XkKyzJwPY32nIl58dPiMiXAnTAzZo/4ZhMl/PIx+AYqhObyogtc4hdvTxCFxkFrA6GNH31f+1Gfb6cEwNuf++2u8+PefydkP5tVBCYf00FJ2bcTEr80BLxbC7/ADmhMQcDUZRCF+qPPmH2tlEJMKombxWTaTH49gays5XIlwD+elRQAvjIlf8rItLe7X5+22SOX0/iSuJ907Mpx1YAYRKkChEwBAq1spBxBq7wsqX4EV57nytdXHrvy/cteXyJx9k2/MIwRwgtWigxiGcBXkHzZ/Pb0SwM2GqEctDD8IkZopApMou/CyAP90R+uSVCBEiB4m8U1QejJSsA7EO5qgueBAeNjo7y0/iW2bNtJPKeIz3z291i+aNZl8/Ld8G7zyD/m+XUggjOKQO299IGJf/z33+FcqVSS/o5mnn7+JSIF5Tz62KewLV+NlzooYvPLtF7+BLjynq/EZB4mha/AKvCVIBQIEzdIhzXwAovx2/NDHy5aS9D+ptOns/ZXimdyqu7r/I+/qOPbz/4DtjWCdPKQ1hhSxX9hS+BKfpu9z3c6fiUmf14Hskgpddnvd/v+j8NlSkDAm/w/dMBJhA7CGAR+REDwRfAj+aS/q0MY7zzZtQrYkx9Bjg5ETPC20JcCm95OCdABR/tJH/AnJcbbEXDywPyk5/mFY5IS4P8Z7IZ1lmg/2z392GebmACTlQAxIRB0kMbp++WD18F5Jo97Fj9y/gBXXvvSNyY/WXbwmVB6sph8XbTAlQksLwqGb3XANXHNFKaO+HR8u2cNxn/yvb8d3o5mWmufYQdf0/gBi1LIoNqi8Oe0liB9liP8k/mfFuKS2+tKRhAoAWF04PM38ALrm1QZfyzkL0IJCO5lQsP+mafVexeeGxAtsKYg8Ty/mJV1afh/Jlw+r/xjQmTHQV2+KrTvHs26SN/puhcvXuRbX/lnZs5fzKOPfZqgXFhQls23NvxbKgHvtA65gh5vB02wfoL3/X/VZcrqlefQaLRfj9RPT5w8x4UGT9Dc9RrbNsFvPnoPhjWM4eZjmClwbZQhJnjd2+HdnudK/DS8cvJ5L+M5Vxz7ReEyJQAdCOrsEelfUAmfsUntR1JnxYNPfheUhxIh/6AmMMmLYJAC4YXAf8cfx2xkZHYYg69emuCT1sDkWX/lQF+JK4mWZfRZXPm9n/R8v1JMIkSWDO90B++myEzGOz3DZZNr0nFf/2ZCGVBBwUwZfPDSGPvIWlEm308WV97PlfeSFVxZF4F/T8F3tK9gZuHzAf/etNYIZZAwFNGMQNm+vQrHIG1pwspn2D8OP+kcuOxz2dsL1kM2z0HgYSBR2gwcKZ5fAHXCHO9nJLzTiGqtcYXA1AqhHbQw8YS/Jk3t+ArRJHpciazN7vIdvp40qa68bnY1Bw/D23zkqoT2LZRaoLNKaFCwSmkwrhDGl62jt5svb/O5CWSHIDtM0gs2TsEACn/z5HPhtx+eK9edvkyN18F6Fr82Fp5LPMNPKVbCym4jkdoF7WdEZX38V9LYP+hH4svgvwmWliWiB8poQjIdF5AMIdx8hBHQX76z2+3nwdvNlbd7751w5Wfezirw0+Dyb4ggdUL67yg9iS9ov6jQJPoFaRf+ziTLF0Vg5tQTk1hMmPl9TdY/YfY8RuCGcILdFGTnfnYSXA7xY3ZuE+cPfsugzO87fe+djmfxbu/9sjA5lSc7JEziEZMxedAnP/uVP++Eye+poBCtDznpio7ff0AF4y64ovufmnCjvN0k/HH3InVQ1DN4y/+Mz3B1YDma4IcTX1cTikIaCcoJFBUD4WVIZjX/nwDvdF9ZXElXuHwgfMGrQTmYCASajMDXWLQLeH408MSxd74xIQJGHzybVgpPZbsEvPM9ZiG0X04a/N3/pbk0SahMgt9N0kUHde2DLM5speYAbzfzrgIIEUTrS0Q2ap0fVQD8j1468rbzZdJ7l1Ey+0IH/QUkKGGgpelfTYiJD73bKFxad5c+lVU1g7uZ+OvXARP8An8NKfDTjVGB9PGtx2KSsjVZ6bpEd+1/XnuXZJvwZY4ChPb725iAJIge1EFczy8JbzdX3un12+HKz2TH/u1470+CyywBQ31tDI8k8bRFPC+X4uLCoE67wsTBTacYGElihOPEcuJoTzA22E9iZIC0tDGEoKyslHgkjFYuwwP9DA0PYYVj5JdUYFuSgb5uEmOjgafBQApJvLKccDiEjQgEgphkEhM/oqu81+Frr/h0UJJkMoHjKaI58bdlQL8o+GI0mFDgN0zCBS/NgaNn6BhIc8N1KynIiyMnDItZafFzjJHKMDY6yuDQCK7SSMOkrKISyzLRwQKFLA/zF7VGo5XHcH+CseJCpiZHcKO5oBTtRw9xOlTEvYtnXXaZXyiCjZUW4KECC4BCu4qh3j7S+VWUhTRuapDhUQfyioiGbcLa8d1q7xSsECjXBg5uJsmFhhYS2mLxwrl+KWPxY5i5lyDtwFgiQ25BfjBfNCLY60w2B/s7Cn+MPeXQ2+VSVFyAld0ATdA7uw7f5brvOQTCI0iKniABXBr8n5EeWYbrf1sFGpdCZdL09fWj8ispiNlYZH3hvjVsIr7ksrO9x6EzOKkRuscNiEQpjdrYOkkmnaGlbxwyaaZOqcK2bbhCQGo0Wnv+dkJpRoZHGBgaxYrFySspIiYkmh56uzySCRdlDCJFLmXFNYRinq8UXAUwHn/88cezL5rPnuTU6TNcbOniWO1ZCouLycvLRQqBFC4nj+7jS//6VTxpMX3GDDxH8sR3vk1/dy+tvQN0dXZTXl5OTjxKe3s7O958g7bmFi5cvEjPaJL8/BwaG+o5e/oU3W3tNF9oYuPzL1IyZxZlJSU+e1KXuqRdcmxeVdN+wqQrkHiu4vDBw5yvv8CMmTORciIk8xcOBQSFaAP+H5ghhMuevQeprbvIooXzyYtHYWJUfnZmeAkOmzduZNf2NxlNpDh9tp7mzj7KKyuIhOxLlfEmXUYgSabH+f63nqJo6UoqDAdthnAclx1PP8WGujbuX7fq0hd+0ZgkFwUeUiuE1rhDo3zj//0j3VY5S2aWcP74Ab7/1POESyopLy8hJDTiXcz5EFQCFIrE+Dib39jKhaYWVl+zAuPHKQCAxqH+QhOvbdrCsuUrMGR2nK4QaBMM01e2h4Z7+dpXnmHlipWEghro/jNmr/nu131vQvuz/DI3iW85maDlzwHfJqBAZ0A4HN67k698+YuMRaexYFYVAjCEDPhgEBPwU131cnXj1xJemhMH3+JL330Z14wzb/oU9Hgf27a8wenGLpounKezs5OK8mLC4UgwX31M/OUpmi/Uc2DvWzS2tlHX3I4jTSoK8zFFmm9+/Zt0d4zTM9hCW3s3ZWWLiOZIv0HPVYDLpGvF9BmsXr2O61YtIDXcxSuv7vFbspKgo6WJrW/uZ/dbr1N/sZuMa4DTxsHtdcxYupCbVlzP8uuqiefkkky3U7vlWU61p7nm5jVMKYizc9tOTl9MMm9eDTesuo7r1t5CaUmG2o40YcMIshI0QgZFZ4QIbu/qUgAA3/OugyCzzDit549z5FwraQRC+amBWjugNA2tLew9eIwTe0/guUEXM6XJjPdz4PBeTuzdS1tnK+MAmSTDHZ2MDKc4fqqW2v37GR1NkwQS7RcZGBnmQmM9+w4epr8tQ0oYeKMJmi40Ulg2lQ984D4iBTkorTEzw7R3XmQs0c2xg8c4f7iWPifo/sUwIwMXOHFgPyf27OXQ0bOc6xwmowkYU5Y5+emhSti0H9pKh1fCdWvWsHTxDI5u/iab99Uz1jZAa7ciI9K4ymW4s5/zPQNcaD3B4Z17ePHZjRzcso1th05w/sw5tHaJhVxiTpiezlZOHD1KX2/Ct1dol8ToIIdOn+DYW1tp6R31RaAe5GJ9J4nxbg6dOMbB07UkUhN36N+t1n7KWLaneSAkPdygpbAAz8Dtb2X9tnpq92+iZWiYhkPnOHbmNEOtfcSBnqYODu/fw95jhxgY8/DIoBR0tp8iMzrC0WMn2H/iCD3DSaRhYBkKLxLCwKF/sJXas6cZGh2/RL/L6AloyVjraXYeqPM7m2nf1YZ2Gexpo7dnFM8D7Q1yoeUiyRFNV91pduzewEvPf4/t2/eyZ98FGpu6UHqU9tbTHNi3l4MHj3Pk2EnaOrpwXT/+4b0NPxz3RwWo+LmD64QO+j9q/M6bElpbe3jmuRfoqj/BsbomRNYKoH0jeLYOxI/DT/KZf3/INvrNTudsPEaaluaLbHpjF2eP7aaupQFPOJw8uoMDdYMsmjeTW9esZPOzX2HXwTQZoQM7qodm1M8i0DA+3Mqb2/bRPBDmmutuoLrEYcerrzDQ04vnJKk9XEvlysXccO2NLL/uOvLyxaSYqPc+LpOw0cJi8iJ5FFhp4paioHAKCI071sOu7dsww0XcfOtqIrlluBiEjV5CbiFezKAkFKVkyhRyIjYp5dLbdZ70cJJo9TwqIhKVSjJu2OTl5jOlahpVU6uou3CKlXd+mFlTqn3TF5PNOVkl4MpF+N6H7wYQKBRSpQiTIGPlkRaAdvC0Qqg0TSfe5Pn122i42M2Jg2/y9NMbSXqKdNKl/tRhmttauXDyCC+8/BLHWrpR6WFeeOI7/N+//yLHTp/m8O69PPHdHzKcTnL4tWd4/P98iQOH3qKu9hTPfvd5GkcySFcxMjjKsaNHOHzoACPJBAYCZ6yNb371K/zLt75CQ10jO3e9xMvbasGD4cY6vvnEkxw/d5b921/lO9/8Lmc7B3AEl0Ud+Ate4SKp9LrRVddRUz2N5UvnMj3f5UxDG6d3v8WzL7zOgAbT6Wfr66+x/UQTg/1tDHe34mRshnubaekdY2SgD0+kMJ0ROhq72blrB7WHD/DqK2/SPZxgtLuN1zZuZF/tMdou1PHE937AyXNNpBJdfOUfv86Xv/UNzjY0smfvNta/chAVMGtPE8S4XFICNP4mzsMFLckgQFuIZB8509dQVehx+Nw50knJtatXQQaGWi7SeLKe5tY29u7fznd/+AqDqTHcZIonvvUFvvTFr3Gq9hR7D+7nG9/7IaNjCQySpExBd/dZnn36B7y1/xBjKSdQai5XAjSANslxB9ChUlwUuPjtT1WKPVs2sXv3UdIupEfa+fZ3vkNHxyjJ/n4Gey6iHE1rRwfNXd0MjI0itCYxPEBHWxO1Z2r5/g+f4WTt2R8VSL+ekufHIgiDDTYll47+3FYArX1FHgHKwR0d4ds/eJEFi1Zw382rIRRD4afAoZ1LiudPcNXL37/sxv/dYpIKMMETcDMkR/vZve8AIqeIe2+5BjMeRbvDHDt6iMqFq1k+by6Zjj5qCj227GklQxK08CvD6nF/Q6QFqUQvXX0j5JYuYvaMaVy3uIzB9mZ6e8eRYgShinDjBoWWpKpyGqGIwrga9NwAlykBSju8ueVNnnnqGS40NVNTXYkBnDl7lra2bm6/7WYqK6pQnh8gKGWYRYvnsGXzZv71mS/x/f/5Ah0jnURCVSy4+wFifRf5u7/7Oq/teJNrFi9g4fw4qXQITJO2c7s4cd7i3tuWEomEfyTi8epGlqn7w6OzwWIAMuMHjQmPDS8/wYJ5y7j77lu498M3sGP7HlraOxGhDBU107jjrntYd/daXM/mzKmLaC/FhfNnQUiuu+FG1t5yG+Pjo+jkAP3Np6lrl6xdcw03r1rO2fObOd0yhMiNMn/BcuZPzadvoAeV9HtZJ8UYp/fUQWENN96+lopVJltefZ1QAhoOn+LAOcmqB+5hwcoZkBwlJFxCgFDKZ4LBcyFMBGB6IyjTL7YyPJTk4miYa+eVE8rJ0Fq3k/ZOzVhXAyc7mynKjbNg5kpWr1tMcVkVc9bdwAfX3cCiZQsx0NhpTb9tsHL1WpbOn0bb+VqaWrppOHmYzuEM16+6nhs/8DFKzAxbdu4nlUhzvvYYTnw669at45qpuby2YSPDTtqP+Q8CkBAmCH93cblQCP4VGm98hFDMZN6i+exY/wqiJEplfgH9XhIjGmHhtUu54wP38eBNqzh+6DAtgxms1DBnz9QxEi7lzttu4vY16zDdDG5qHFOk6WxtYeMrW5C6mJvX3U5hQc47xxYKL0iplQg1aXlLRdfFJtq6OklIjUx6XDx5lkEnRdWyxdy88gaisWnccON13HzLQmbPqkKIHGqmLefGm6/DkONYps306dWYP02zqffxowh6PfjGTs22NzaRSCb42Mc/imFZBF5sXPzS6TrISrgquKMISqV7inNnz9Pa2sn9991NTn4B0rExSNHX5VKQ47B31z46GkdZds1qLrbtRDEMngQl0SqCJ0BJQTyngIrCKLWHtvDcD55hy9b9XOwbYSCjEESZsmAaR9a/wje//UWe/JcnON87GPQXuTpw2Wo2BaxYs5rbHvgIq66/ntc2bqCh6SK79+0nEi8gGrEZ6Buiv6+X3v5RhBnnsd+9h4988MOse+ADWBeP839f3EFES8y0YsDOZ16eIBOLMjQ6hEqO+417VB8vvLCRuYvuYnZ1Ln6ktx/l6UcrX+3wE7qzfD5rDBQAOowWmsTgIIcPNvL6m0/xpS//P77z9Zfp7K+jt7sfjCHqzjbwhX/4Ot/4zpfYs/cYfX3jCNIU5uWwfOVKyqsqmbloMZ967GGKc8OE1Rgzl93L9KnVlOZGCYV76Bl38AyNHY9RmiswLNDKBDwcK02hWcr81bdTWllMVVmcsZExcFMY0VHaWwVtvaOMZFKUlE+hqqIsEJTBQg+8qwSlUQwSPL/+Fb7wV/+Tr37p26y68xHuWDWH2UvmMrvY5MzendTWN2NXzGTptKnEciopygsRCceguIDiWC6xuF8XIKIk+XNmMmPadEpzbaIixeDIKM3nTxMpKmHmtBrySsq4fl4155q6GBtNEjMMZq26i7KSYublGSRGRxkLlBWJG6TmSV8JmDRS/phcWkiuSiNCmpmzZ1FkhcifUUlEa8ZNDy0lG9/czhf++Su8+J1/5fiRwwymTITpEY/HmHfD3ZRXVbBozgI+/cmHKYibZJKDvLrhFfbvPc71q9cwd9YUTDPbyOltNAGRRgsXoSVST0wlQBESAi0UCRTCVcQ8k4QpkbFciqOFRKJhCooKyc/PJxqJoJXGjkRIjY0yNjrKHXfcwcyZM97uqu/jp4H2m2dpYKizlRfWv8jq665jYGSQvqEBegdG6BhWvpYg/bh1IOAB70XqX7GmpKRvYIANGzdRUlKKaUq6+wYZG+xlaGAUx4U9296gs6uT5Tevo7Ckhni+hRkwFkNKpBFHAUkgHC/ing/exr23LqM4J0x+/hSseAlOTKEyVTz6O7fw0L0f5q4HP8Zwxy6+/r0D6CDl92rAZUqARFM5rYpZC1dQM2smPZ2tZBIJTDvGwGCKl9e/wMkTtRw6eJBjRw/heBYlU4uYO2M2181cRu58TUuHjU4PcPiZlym68XY+96n7uevOm6lv7eDUnl5s26Gvfg+HTiVZumIxOSG/xz34u62fNc3hvQVfPGoCgenLnqCynp+yhDTIz6/k3vtv5+FPPMxDj/4uX/zi37NkwUzOnD3OU08+xQfu+xgPfeJhrrnmGkwhUMpDmibCMPyOjaakoKgIS9p+Qx87Bii05yCNTFBq02c6Qjt+kJn0TaFaSCQW2gyhlEvheDEegoHwCAPiDNZ4kt3rX6OtO8MDv/UoU8pz8ZQbFPC4fE9j4JEx49x4w3I+8Vu/xaO//TnW3XEL8aggXj6dRQtmMFS/mddPdFFcMpepeYIxNNIBlUlgBJVbNBKFxJQmMmggpJSDVi6mbWNIQTItUMrX8hPDg+TkFGCZIb8UVijuNwTRDiYaZVoYeCRH+9mzawdHjteR9vw4sezYwOWyeHC0n/yyfKoqqvndz/8hCxYsIBQ2GUoM8dQPn6S1o4MPf+RBPvHxj1FVXuXngQSVIEXIp7+UgpKSIizTIBIOc8dttzFz+iy2bz3GwIA74ZF+O2uAwi9vrZWDIfwgQwloDLSnMQyBsCTpZJJMxsHVJh4GQoZwVKvPRINHEuYY42PN7NtzhJLiGdxww3WBsn7lVd/HT4XAvC+A4aFhKqumUnv2DM88/yJHjp7kzMljHDt2EoFAKSbWy3tTAbhCBRAqKLAliMbzaWtr4cXnX+LIsTMcO7CdurpulJlGJDVrb76Rglm5nKhtZlr1Eizy0Dj09J9hw7MbuNiZ9hmnCFExtZybb1nJLXfehhUqJK+khIKiAlA2lRUFzJw1k7kLl1FSHKKtbfiSK+gqgMzuvDOZDO1NjZw/1cKRI8fZ8dZu1t1wHQvmzuQTn3yUP/ijP+Czn/0E165czbob1rJuzbVEsGg/10ht/SmOv7Sd59pb+KM7b2dEe1ipDIcPbmd/QyvnDu5jeExRXTwblxFee3E9cxfdxqz5RZgqaBDzPi6DX97DF26e69HT2UF97WnqT+2no2OMSF4Ry1dNZff2cwwPZ3BUPa4bIxaO4IwbdHa0MzrUR8PZZg7tfwsnOQTCZtzx8JSDBX7bSgPSmPRnJBE16JsfLYNMJoTNGDKTpqOpmcbmHjpaWmmsv8Bw/zgiHWLIGSOs0yBDhMbL0UYKJ2IykGhjfk05H7hhLUsXr8HKi+HpoGZDEKzDZaNu0G1WUJPvUjWrhuqaqYRDFloptB1n/oJ5dF04zNHWJMsWLiRsOjjaQ+SWMnt6Cbtefp5zZ+ppbOnAESYJoQln/I5anrTIaAOEYt6ylTSePc3mLVs4euAEO/af4Na1q4nGcxh3BbYzjCkEaWy0k8J1FSaKge52vvalf+VfvvotOvsGEYEq4yNbAdM3B2RUCm1rbEKUlBWRF7JIiQw6nWRkdJCBgW5GB4c4VNtIa2s7ppMEwjieJqwSgAVC+TGIhHAzklkz5vPJTzxMU8M5vvLVb9A3OOQL4rdxn2lCpNIZBod6OHf2NPWnztPY0orn2lRNn8FgXw/HDx/gOz94koauDsJCYmESLi5h3twidmzdypmzw/T0jKHUGAcP7eDA4VPk5pVz4UIDXV29ZDJBX/T38bNBGEjhJ+BWzZrNn/zXv+CRxz7NZz79u6xYtZobVizglhsWI+Cy0tz+X+9Bwk88kpr4KSgu4Xc+/wf8xz/+Qx79rUe55rq13HTdSlauWMuHPvpBLFdTf+4se3a/zJn6dj5wzw0YRNA6xbETb/Df/uvf8OrrO/2GSZ7B8OAg5xvr2LL5DTZv2skH772bacWlyEg/9efTnKuvY8/WV9i+p5fHHll1Vckk46/+6q8eF0HDmSP7d7JtVy1tvW2sum459911F6ZU2GGbUChOKCIIh8JMnbGSadPKMRMjvPHa6xw4dwrdm+I3/9N/ZNWUUryQZu7iabgjBrvr6ikFPvCRD7F8UQVJrwfRX8Sym9YSrZLEnRDCvHoI/pPBT+fyhMbUGYSXpnnYpK3+OM11tSQpYUpFAddeP4/BdClv7dlJT9MhugctFs6ppqxwKjlhOF7fRKkd47Z776Fm1iymFcUxQ3lMmTWfsuIwppPBMy3GhEGhIcmbsZAZVRGkNAmZFVQtnUNhYojtO3ZxsauPaDSf1v4uynIrqC7KQ8QKmb98OoV2DFtqVGmMa6fMp+fcbjbtEOjYAN3159mw+Tm6x2MsnTcDG7/0pxAiMFd74EoSZg7TZ5dRXlaCRVAmVwuUNIlKl4YL3chpy/jAzYuJYxHGRNmStUuXUnvuGGfPteBkFFNmz6RCprCrr2HBVN9iYudMpXLaFObMriaem8+xujMMnj3NLfc/xIpr52EZ41jmNJZfM4XccASER17+HGYsm0lcpYlJOHX8HM0DaW66ZR3FeVF0cH9aKqQyyBguNgZx2UGqcg1LKosY0pKYcnAjmvLSGtatXkgm4XLu7GnmL17ComV3sWzJFHLtPIxwgsXzVhGP2wjh4UkDQ2vCpk10ygKWzZ3C9JpqhpLjFBQWUFyYj3HZZsVfQ46CXGOMiyMx2psP0HqhgaGMQ3XFdObMmsZwUnH+zGluXbeEmdfcwpIF88i1TERUs2bJak6cPcPZ82cxTIeaqVX0dI/S0tlP/9AI9fXn8FyPqVUVRMJ+XvYVl38fPwm0QuEXMTOlIhTOwY7GiEUiFJguhTNXsKS6FIOMbzUQQaG1STaB9xwEgTbgB01KI4Q0bCIRm1DEwojmMnv6DKZPraCyfAoleTkcO3WG5rZ2fudTn6dwVglxkUB4Ecxwiqml17HopmupLgojPWhoamDzvt24CcVH7vtN5i2dS0QIvOQptm1sZmfTUez+Lh77479j/uwibD2pNfp7HJcVC1LuEG46By8MUniEsEGmUbigY0jVC5iMyQKkUERSCTQGo5Yk5JmEVJrRcJQwXRjeMO74XMZjLjEUShsgHKQYxR7NQUTTXLQ0U0bzMOO/xAo4v4bQpNE6RFooImoMpYcYphrpjZKjJCkrSkh4GK7HkGkhtSaWUDgxCKPAsfHEMGmZS8RxSJguroyRJ9JoT5CUNiFjHCPjkrFyGRaCYmeEMTOHqHB9f2XCZiiiKEkNkzIEnpGDUJpxqcl1TUIiRdoMoY0kMh3HsHsZ1TaxTpv/9Z/uInLNv/J7f7yYcN8F/vkb/8B5dwVf+M+fpcBWwYoXQSpQBpwQI5YmKgZIizwimEhPg1BoCedqd/PKsyeZc9+93LmqkkjGRmQE3bE0JakM2vYYIp9cBEkJOYlGUuEZRIxeUCEcLx/P1ITcFEIIhqRFNDlGOhwnpCW2OYhK5SPCSTRRhBrHS8ZIxCB3rJfmI/t5asMeKq+9lfs/ehd5hovCwPQEnuFgOhZJyyHsmmi9nxbjeqZ40AlMGR8nnTeKofMx9BioONrTuJaF0gYhI4PQITTNCF1DygALBxcLy83geGMk7DwKdQo8k7S0QAosIRDKQ0zsFP3gMUcprNRZRsPzCHlDCM/GsyKElYkQadJKIBFYZh/DoohQ2iYsIWGPEE3E8cIJXJ0BESFEBKU0jnDwUBjat9qZht+1bmLJZm3b7+Mng3JxhO9Ws5wxsGxGhY0N2JkORq1KYkJjqIRfLliEUEiMySWh30uYmD++FUChEViBTqBQIkVaSwwsTKmQjgWyB6XyUNrEQtBjS0roRCQr0OEhnPE8huOKAp3EdMNk8EgairAKEVKClCWwNUjZikpW0GwLasaTjOXGieug4ZK8QtF9j0Jo7fepIyi/GsL3/4JACb/1hIEClURjkpYhIEEIB5HOASlJWCNE07kQGsLFRehiDFeDmfIjNIlgBQOdvdb7DORd4GkwRtHaAhUB4YJMIFSYpDCxPIVpGCSFIJwEYcOAAYXZGiZMprXvWACNRiKCFtATkH7pEw+u6DWeDdDMMpysqe4doIL2njrFy8/+gKeffoaqqTMYHVfEK8v4+Kcf5tpZ8/zUG0OjRNpPtFImXtAQR05MBQdwGR3t47nn17N773k+eM/t3HfvHdihoJUxAoWBoQA5QIJCQigMkuBF0MYgLkX+vCNbeMr3qmpAITD8JKLA/zeJsQb0USLN0GAnb+06T2lpEauvX4LwLBAuWmYQmIB9BakcNA4Cv6DSzwQFSH+3KJXy6aFNlDRQAoyJx/FABE2FdMifNu8iHzKAdDykIRiXkpjrIk3JAJJCzwGp0CJEJugmamgPvzqjhRbv7iWd6EAa6HhOsKYt7bsOlDQQl1HZrxEBvGtXxPcm/Of29/WX1pdPMpWl5FWDbAjepfUf4NJi9RvVSTeYN9alph3vSqqgzoIXAZlByyToaDCfRzFck1EzTFwJhAvDNsQAI5MkZdtEfs56EL8uuMwSkPFZmt8GlaBxSVYJ0CnQJmlho0XKVwIyMTAkKWOMcCYO9hgZPAydh+FpMJIoIVBE3n2s3sflUBrkmN//K1AChEiCDpPGwvTSGIZFWkjsjIMwLYYl5Cl1qRztZVqWrwQopF8HPbu4gs/5pW9/zHqaWJFvD9eRmKZf4QvtMtg/wMh4GmHGCOfmECmIE1ZgadBSo4Tns0Bl4gW3fIkJKMBFeUkGhkZJunHKi/OxDBUIDjHRj0IoQA6TIg9rQgmIoo1hXPKxtPaZgQiYh0j5ypXQk4J/3km8OUACyLvU7lqZIJxACgeR25NoeUlZendqviuU8oMyg0ZNPjOTaCknBYdlBzhgjFgQNC7M4rIpAGQESNdv3ZyQgqirkCYMI8nzFEgHLUJBgTCNof1zK+FbAN6JSmR5xwTD9vskaMDSCq0FKqh0+b4SwGVr6crR9PFulH7v4e1pECBLKuFbBv1jAafQP45UgRKgIiActEyBjqAx0WIcwzVJmDaRQAkYtSECGI5DypJXjRJwGQkNCBqe+PRVk7Q08OudGwJMpM/kApuggQkSPEJo/DQtn+kG3QcvXeJ9/MTwBYyAIHrWhGxJX8MBlO9TN8dBOL7yJpMB7a88V5b9BiLkis+ISQaEnxXCChpKGSaYBgXlpdTMmMHUmgoKCuJEfDHlfzZ4Ho3fsENOnoia4JWBEGEKi0opK8sP0nYvPQf6kjLjEsJSWWbidwvT2EhfhAXpWE7wfgahPYT2AwcvXwJZAe4rTX652KD7mGZSMKAXNBkJvivUJQaFBP1zCjXhP4yYOK+/vvz2xP7KVIHgzeBH94MLwi8ilL0TH35NCXCQuP6SFb4VxK/LIbGyKZCTaOFPj0uC6vJz/hhMpCXiK2qBFeFHp2WQdnkV422X61UGMblC/GUI5q4MFHBtBOtOBMf9aorvjICzCYLUXp+H+rPeBGFi+qW0QPiWUP9vK3CuXR0IWrUBWgeCQIPwu2YFvM8nhzBA+OV9/X/tiXZaFnaw8bEQvjgKCJ+tRB+cY+Jkl35fPaT+yaGlCESmEawQ6dNbGL4SELANU4GQHggP22NCOFxGay3Q2t81+4cn1ey7xKmDZkG+wLwck0VAVlD86I+ngz+zRXW0gQ4ioAVgZEuBemlSyQTDwyO4nn/eLCPMMgLlETy7gcBA6mw6nG8BuFxlUaSxMXRwfxrQHi6RidvxP5WV5Sqo1+oGbTKZEKygJuL+tRZoBU7GIZlIB9fXfnqgCL6n/PNpvOBHXbrQzwMRdJQjAaQDl5oTlFKVPm2De/WfSQaDmJgY9svngQLh4WbGSGdSaO1h41szNBAik+V+AYPMTg2/qM1Pkp1+SUFSgEs2uTR7NDvGl5C90tWnBFxyA/gbpUttg69OekxuWXlpzniBlcsLuNqkD0AwzzI/Mqsuh5jEKyQQQohsjQ0bpIFJemJy2qT8T8sst7w6IDzH1dJQgEcqI+hsaQLDQFoRCsvLiVgmhpemr2+AobFxpJemsLCcWF4R46lBers7MLwYVijJ8EiIWEGUaVPLkXqMZMKhu3+UlKsozMunuCAPz8kw0NfD6FgCJSzKp1SSEwlNFAt6v2pgwFC1QODiZEbo7R5gPKHQpiRqhskvyycajiKVwDXGMQghUhY67OBqX1GQEwJR+e4zKf1GN2iUNhBB5Tul/SBQrV2QEuWBlBYCXzYKqYMF6SsTWWTHyz+u8KT0F5DyJtKaNALPlyIYWiF0ClBseeMtXt95mN///d9j2pQiBA4g0dr3G/vf9QW41hqtXaQ0fWHkJxf419Z+ffUBw6TQ0WQsgeklGG3v5JwjyfcgZKTJyS8itzAXpUNI0piYINKgwoBE4SAktHe0kV9QQjjqd0nUTpKDh3ZSf26Mj//Gg4SiCqUttEhhKAshDLRQ+P9pDCRSywlDgRBiosf3JK/bj53jSqeRjonjtdA5MIwIz6S8yCA90E9vL5RUlhDNsfzyqIFdTuIBYygiwbHAgiE0QriAy5vbXmM0EeeWm9eRF8+Q8XIwDQOpB3ApxNS+O0kJkFqBTjIyMs5gGkpLSojIS2t0cttWgIRyiQoBnsZ107T3dlNQVkXEDmFoJpSCyd+58hxXC/xVQ+AOUYyPjtLd2YUrTIS0iEZsKisrJz7/nqeP9i1Rfrv5gDaeQyY5TEtLC6lwDpYnKczJo6iwAMMycNwEPQOdJEcVpmlRVVWFNdH+chKUAuHgujA0MM7QSD8aTUlRBdH8HGzZx8iQRXfXCGGjAytnKjkllYQNB2PCdvnehvHXj//3x5EZ3PQor27dx6bXNnLi2HFO1l0AGWJ6TRU9F8/xyisb2LX/IAfe2srFC11MmT6H8y2neP3VV6g72sCpU6/z7W9toKlpiLvuvI6hoVa2v7mfzdv2cvLMGUxpUDOliu62Zja/upF9Bw/y6utvkHIlc2ZOw7LM9xWBAAoHoQ2E0LRdPMGX/vGL7Nx5lKbWBt7ath3XyKemugrLSpIWcX+3jIOSFlpo30Aj8BvKC4GQQTsMrZBBSByIYFcLCBW0lFVIaQfjkF2NgVkaAhN9tliMn+anlMYw/AbE/s476Lqms/3AA6GNQJIC6TAwmGBg1GHpsgXkRMMIUsH5/KpIvvIRyDBfPZg4nwrigbQQOEphahiRkribxjVNpHLY/MTX+U9f/wGiv5/9u7dSf6GBqTULycuLoTBBZHxhrfycfCHB81L85V//Nbn5xUyvqfEtG26CI0f2cubURdbdvA7Tkr6FAL+rphAakPjle/y0RnQGYWhE4OeePJezf7/7/NY4ZDCUQXvzAf78b/43bd0R1lw3m60v/JA//+9PUjNvITOnF2KQwfAsJIIMkowQmCqJISQCMwge9Omq0OzZtYXuIZdFC+cRDaVIiRiGEEg1REbmYOog5F+AwMPLJNmxYyfrt+xk+Ypridn++HPFsyilEEFKI8qjt72VP//rv2LxipUUFhT6ha58dTD4XnZ+iYmS2FcTJpQhfD/3W1s287f/5wv09g9Re6aOxPgoc+fO9etqvOtceW9ACz8fQAUWJ98S5dF0/Ah//T/+lvNdY5w7cwrtZKieWolEcfjIMTa/sZNDBw/S2dnJ7NmziUQiV5w4ULRkkrO153n5xS0cPrKX/ft30tYyTMXM2UTNXp5+ehObthyite5Ndu05SV7VKqpL5M8X1/NrBOPxx//icUjR3dnE3/3LU/zpn/wJH/7wg0g7ygsvrWfdqhXU7t1Ge3cff/if/wt33nAtLz7zGnnlU1m9dhm3rb2ZtTffyPUrK3hrRz0f/shjVE4LsffAdo4dqefTv/N57r/zZmbNmIZhGnjpFMuWL+W2uz9AflEp3/jWt7j9lnXE4/EfYTBXKzQZpLJAewz0nqe5qYOPfvRRHvrkb9LdfpZtbzWwYuUcEkOnON/t0n6xg66zOzh7UVJZnQNAX0cXtYeO0NLUTP/QCPH8PCKmYKCjg9rjtdTVX+TIqbN093dQVFZI31AvdafOMDQ0zOnaC7S0dlJQUEAoZNLR2Upt7WnOnKlnfDxBYWEh3d39tDRf5MKFRgYGBunv6+b4sRNUFBVz5uRpxgaHaGxoYGR4iLP1LaQ9k8J8g4sXz9HZl2Rq9SxqaiqwTQ9Bmvrz5+nqaKP+QgPn6xtIOR7FxQV4rkP3hfOcOn6Ss+ebOFl3jrTyyMnPxzJNTO0xJA1ynSSeFUJ6DhcP7SFdvYC//S9/zNxpZby5bRPpdB5WgaKvN0NObgbTjNHV3EJrawPJ9ChHjh7mtc1biURySWUs+npHqCyxaGg+x4X6ToqKizldX4fjWOTm5WEbI7S3NnD4eB3nGzvo7h2mtCgXy8zQcP4Yre2DnD9/ntbWVpTWFOTlBQKZQLV5Z3g4GK7ByNAZ9h0/iYgsoqxK0Fd/itoGm2tvuoEZUyN0XjhFw4lznD3XQ/voGHnlxcTFOE31DbQ0NdPW3sPpuvMMjA5TWFJM3ekjJNwYixYtYLT7LLsOdxKPxMmNpcjIPD+wbyL1z0W7aRqaLtLQ2cd1q68jbl9iirWnzzA2MkxeXj5aw64DB8gLW/Q3X+TwkUNs2bmDwtJyBkZcVMalKCdMa1srx0+cpLGxkdpTp0g7isKiIsxJBXGuBmiyfnA/5qO+tpac3Hz+7M//GzffuJZFixb5CvRVwg8VHtntCVnR67qMdrQyNJTgP/6Pv+Tem9Yxd95c7JCk7sxp3ti8m9vv+CAP/eZHuPbaawmHw29PJ+2RzvTz8oubMMjjT//zH7Bg0Sye+OYLzFx6Dd11W9i7/xx//vhfc+tNc9m95zRv1fbwwVvnT4piem/DePyv/vJxhKCnp5fXNm7lA3fdSzzPormtm21bjnLjmlWkh5vZv+ssRWU1dA2d5PSFTq5ftZayknykHEFowVsb1rPtrOA/fOrDGLKNAy+8SqpyIbYe5lxLO1a0gPyohYhHMUIRDJGgs/EkG4/38JE715GT874S4EOjSeERwsBjdOAc5081UzbtOqbWFNPR0szZliHWrlnB4Vf/gS++OkZYjpDsOMdTL7zJ9CWziHoJnn9hM419w4z0NtFw+DBjVh5VhZoXn97CgfOdOOkufvi1v6QlWcONa5fRsncTj/+/7xKK2XR2d7Nr50GikTA108touNBA04VWLjae48S+/ZTUzKGl7i3+9huvIYfPsHHTQTwEm5/4CrpmIa/+85c4NjRI04mDvHXiHI31x+kYzjB74Vzamxs5uulZnt91jutvWE1h3ERgsP4r/5WvbGkkbhr0ddVzZt8WylfeS6r1DM/+cCtNwz10nH+LH778OnlVNSyeXY1t2EgBaSGJqQTajCCUS/vhrRwVM/jQdYvQmTFqTzbj5ZfjtB/hrb3jzJo3hYJ4hm8/9SyNF4cpzY9yqv4Ep47txMqbSQiBqz1mTiums/YoOw+0I0tz6D+zj8PHm6mYPhsxUMdzrx6ibaCb8Z5xjhx4hpSqZuaMCE//y9/yg21N5IUNmupOc7GxnrIlS4lZNlpnTfdedqsySSfIpj5qDE/TP3SKppZRKmum03juBDPKppEcLyZ/YRUzyvI4f+woTe09tA52sP+Np4nPv52ZuRne+N6/8sUX9xONhGm4UMux40cpnjmb8dZjZNx8THuUNzes53SzZs6sasry43iGwrrMJ63RJLjQdIGGrmHWrLoe2w7sSCLFy//y9xxpl6xYPg9D9fHf//TzxGfdjsj0c+7kbo4fbyA0ZQFhnSAnHKW8vJCW5g7q689y5vwpvv+Dl6mqmsH8edVYxtXBbLMIjCCBpQbqz9Wxf/9+pJR0tLdSVDkDyxJ4gUlMiMBqAD9Wgfy1hCaIHwtiUrSH0IqBjg7e2LKHUVnAyHgb+dE8wmGD/Xs3kFEFhO1xzje24WZcSgqLQfpRAhq/UZlQfr8OT6doOnuOc+fbKJtWTtPFs1xoT3HrjQvZuf4FCubczOqVhZzf0khfpoXaQ43ceu+dxEJXhyVAIiyUilBSNo+71l3Dyz98lhee/hYnTxxCOfl4Xpj5SxZSXlbGs0+9wNMvbGHq7LlMmVaGKWwkgtRwC69vOMKtv/N5cvI1Kt3DwP4TNKZtejpaOH10Ly+s30xrZz9pIdHSZPhiI+uf/yZzrruNnNxcxPuugAlINEnhz2ZbOLhjaU43DXC67hCn6tpZtHwuRQXFhIbbSYamcs8DH+ATv/df+OynbkLICHVH99DVP8bH/+AzfPbzj7F8+hQOHb5AU9tpTp67yIqbP8zv/e7vcdPCGhasfJD8WC6lmTZSRgW3feA+fvfzn+NTn3qUwoI8TNOlpnoG161cxz23r0GM9nH2Yitm5iJ9dhUfu3MJXe3DrLzhTq4pi/HaxQFKk0mMeQuZO62cUZHPmmunMzDSz6AXZ/U1t/MHH1xJTkU5aRn0QSBCwcgJRgtX8FuPfIbPPPYgRv8ZjrSn6Wo9ReNgkns/+/v87ic/xMolq6hesJycsIPleShpEAOw/DNpBdIboqlL0XzuOIcPHsVRVSy5ZjGr5i1G9rbR2D7C+HAdp5saWXXz/SxftoZPf+ZzLF9QwF0ffojPfPo3uO+Dt6KsEEWJFLF4Ndc/eD9/8PDdDPVd5FxLB3s3bcYT0/nYbz/Gf/idR3nw1kqef+UYKZ0iOtaHVbGCT/32p/nwvbcx2tfOmdFRP8xJuX4Pee0FmTjZiP9LMDHRwmM8NY7hxCnNGeDi2Qt4soyyiGJMDKNti5mzrmfh2ju4/oMriA8f4+DRIYSwKEtdxClfysc/8RCf//xnuPWOtbimJpJOU3fqZZ7+3rOUFK/h87//G8yZOxUhQn4MgEj78SMaXyGRGTyR9tmEJxhXHikFMMaU8Q5G5HS/qBE95KSa6YrOY/nam3js0ftZPGMBH/zk7/Gphz/G6tXLMG2LpcuX88lHPsGceTO578MPc8ttdxDyc5Ive/73OiY4nJSAwdyFS1ixYjlDvW0c2bOdb3zvOboHR/0YnUAdm1AY34O0ksrA1FknJX64qxTkV01lzfVrSA12smf3q2x4ZgvNAy4DPcdoGk7T0dVMV1c7X//qNzl++BSe9pN6g0bbfrdSbWDa+dx83TJicYOnnnue117bwMI165hVYjPaP8aIqGDn1ufobApx1z2LmaoE3amfN1/q1wfSF7yQkxPnsc9+muXXrKSotIzS0gLyC8OEw9DZ3kGoLMLqO9dy0/zbSTR30NjVyYDUQB6HXt1MJprLurUlfkS4LEEXm8yeOZWPfPwh7r/9Wnoaz7HtVDshMui2ev7hn56ix5rB5++/nngs4vsV31cAAvipgb5/3GY8maGpuYG6uvPMnTebe26/kZyYiSOiLJxVRUluPijBnfc+yOI50+nsaKesJJ8ooKSFWVhBOpMhbdgkk+fZ8tR3+fuvfwM3cifL5kYIi2EGIxlKq2dRUzEVQyuuWTKPVauX09PVzssbNrJt507q6s7TOzKKk06Rdgzmz6giEspHeA4FxXkoPY6rJbGIorpmHhFTEIsVEjJDGK6D6fl55+OehVT+TlgFJreMUciyOdOJhoVvGrQiGO4IoZhLW+duvv6vT/DcM2eoKltMRVExWqSCoMUg/lfYgTtbkFGS/q4Wzpw+xaCT4ZYP3MaKGdWE566k3G6k/vwJNm04TXXFNGpqoiBcHA2ua6G9oOdAkNGgTYuKiiKK4zE0NsLQeE6Kls4eqqoKMZQGBRVT5tLf3YLQEhHOY96MRUgBnk4gDAMjI7AAU4z40c4yjKtttDCDjIfACgZI4Uc9u0kLL2Mxa9oSbrv5dubMnkIkMoqdsuhqO8rLL73BwT37qDvdwOCoRWJ4kAwmpi2pnruIoqhNXm4xN990O8unVuDqHHqHL3D21ACFOQvIy/FzDPytZs7EPWh/8iG0idAGMkj1NYIgRAiRMm1skUYKF4wIyogEKVaajGPgeBlML6CkH5ACMsGJQ4dobhzg9tvXUloSRujwe3N3+1Ng+syZPPZ7/4Hf+OSjPPDhj/Lahpe5UH/Rt8uInyQ349ccwfD769efjmhNYWUVH//0wzz2iQe5ZfkSTu3bz5mGAcIYmMWzuPtDn+ZTn3iQouIC1m/fR8KDCJ7fg0NK0qaFEOA4Dq2t7ZSVlLPm2utYtWQ5rWfr6OgUyOIeDu17i+HBKlbfX00oHMdhOtH48JV3+Z5FoAT4/qdoTi7r7ryR1atW0dvTwfwFNeQWWBw+coS2thR33XMnt987g4aGkzSeG0UrwcBAKy8+9zK3f/BjxCVgaAyrkKmLpuEODmFhE7cVBRGLcDyH9Egrz33jiwymTB75/J+yfFoxMri+Hwn+Hp/wPxYiCFjDj9TWEWI5+SxeMo8b197EHXfdTnVVCQCOyCXkjWAr5ZcNVCYh7VJSXEJjfQOuB8pV9PSNkl+Qi3BcigoLuXbFYpYuWcpvffozLF5YgsDBkWEcEQ6Sbvw0L1SKlgvnOH7iJEtXr2bWwkXoUBiJQhHGVGMoFcLQDp52USKBkBaeTvjPEPQFUAosnSak075wCxdgSUXYNifSHZMyDys1ilbgIUgJm7A7wlhijJopU7jp+tWsvvlOPv7xu6mqiPs1BgL2aKNAhAMGotFWhNnV5ay64RZuuP0e1qychW2bxGIxlt86m54T29ixr4fr1txKTjzkFxIhghQxRkcHAQgHoX5J00CTxNTgaAulXUzpUVI5jbrTR7GFBhuOnmxm3pxqLBkhLWMYrokClMygpCDkWRjAYPcF/vJ/PM5TL7zKeMZBZRtFQbDLU0GFQImTCOEmJbNqlnL3XXdTPb2UsD1INCM4un8DZ8+1cvP1y5g/ZwmezMfSLi42SkiSWgZjKDC0SUQL0kKyYuFjPPzojWx8/csc3Dfi0z8TAUZBm4HyGfxoE6lMLKkJh0xihiBsAIRwYjHIDBO2Hc6db6ThYheGHsVEoUUMF4f0+GCQiiVAKAb76jm4/xDLl6xh3pwabAFCZd0PVzEM0/c/WzGGx5KELYOignz/PZ1VAvSkgXkvQ/splCJ41nAI0xakEwnCIUlBNEplxSyEk8Q2oiBdcuJxrIIpKAOkl6DhxF7+6M/+C5veOoOUMJYYZ8fOXYwNj3L/vXdw4+rV1B48QGfnKEvXLsEZ7efGmz5EvNrijS27qZy1mOLI1VEyGD8w8PHHATzP47XNL/D0917h0JFdTJs1k9tuv4/iYpvM2DBHDtSx99BuNu/eTGHJKu66+VZqypJsXP9d2jtKeeixh7FjJjFcTG0SDSXZubuF/Vs3c/bMYRYuvJ61161i1+vP8J1vPAeRQrr6LrJ7xwFKi/IoKyu7LBjmqoZnkJF+8YqxgX7q6zuZtuRaFs2pwrSyO144ffgAo6Fyblw6B8MwwBAYwiMvHqO+sY/1G1/h0KEdCC+fm+68m5nxNNt2tXG2v5tkz1m6T2ygLXcpU6tySda1crDL5O7bVhAlg1AGCI+x8QH2HzrDyboLpJND9PUOMnf+Qizl0DSYYN3c6WzbdZhbH7yXC3teZLDseoq7TpJ3zV3I/joGU0VUlXmMj7nMmj6NXds28fKLL7C3tpGGC40kEikWzpzFkYNvonNmcsPyeaScEQ7uP8SsRdcQ8VLs3tnNQKqV7ov7uHCxmdyqGRTnFmF5Es8QmDpFRtiYgPIc6g7vpT86kw/ftgpCMQzl4JgQQZNXLdj/9Ab67KXc98AtFOSEMPU4yogRVQ7PbH6Lswf20NQ0zIK5s7jYXkdHf5Jr167GHhtk97HjzJi7kBtWLOXEmXq27HiVIzsPMZYc5UMPfIqK0jBH9u5H5Cxj1YoSBvoaqb/QwYwF1zOlIEJqrJl//c5zXGwf5uZbbiAWiUyM5yVm76E9k7bGJlpaR1h7yy2EozYIh1OHdiDDs5hZk2bXni7aGg/TN+4w3tVF4czruWZJBRcPbeV8ZBn3rahEafCEwtSKs2ea0VYu9z1wG8IZ5GtPbmFq6XRqpkTRpu3nNwg/TUuiQSkaLzSx8fUtNNSdZ9fuvXR29lI9pYrqKQW8su00hw69QFdHL73t/Sy+4wEWV0YQMsx4cpRnX9lCa+1+RhyT6iklbNv6Ihte3k57V5K9h3fT0dXMnOp5WOGrw/eaxeWiXHDwwAG+9a1vsmf3Di42t3Dr7feyetVS3xIgs0rApVnynsTEY/mbQKUUdadO8eT3fsAb27bR2dvFDTd9gGuWzaOoLI9zhw+wa9N2Tu58loxVyO0ffpDSvBCWGqHtfC1f+NrTzFt+M6sWTAVDkxwYYP+hc+w7dIgjuzYxa94abrplLTMWlpMajLD1zdfY89YmMinFAw89QmmJFdTDee9jomyw53n0DDeRHrSQRpLCsgKsSBmSNDo5Ql93htFMgnGgqKCUyrw8LD3GwPAwI16UmpICXBMsRiATQ6l2erpjpJNDiIhHXsFU8iKK3uE2+ro9QjKGER5mTORRU1xEPB7H8zxfmF3lUC6MmhnyMHDGx+kb7McoLKE0bKEIIaTGxSPR0cJQuIjqWB5uCKRyMYQHOs1Av6ZzqBfLTpJvTyW/LJcLm5/kay91c81DN3Lj7FzU2fXc9pVhvv3lz3GdKKJBaaZX5BHRKUQ6CqaDowbp6UkykoKcqI1SirycPEyVos0VTI+E6O4YJG9GJU7HLjrj11Ax0oFXWoOVaCedLCSSm8RJm8Tzchkb6icx2MsoUbBD5OXmUJFbyMjwKTyjmrxYLtIaZqCnF2HnsvXlFzl4wOOR/3QDhWYf339yO4P2NH7vM7/JjLwcMgbY3iCjRgE5KHAzDPU10mlNZX5RDi4aoRKgXaTIQ8g6/u6Pv0jutY/wGw+uJhoR2F4vSVmCkejnXH+C3MwItlVOSXmM0VQbqfEccsqKiaSHaBkZJJ5TQXEoRH//EIOJHiwRJh6LkVdQhmk4DPS04Mgq4iUmdmqYvpFB7PwZFEsJXhOf+f/+lpLyBfzxH32Wopw4YqKkie/L1CiEo0mMjzI+oiioKEaaIHWS4d4GXHMKOdFemnrChNJjkFNExOslHZtBeYFJqruWi/Y8lhTYuErhorBwGRlUZOilIFqOSsL5gToqS+ZTHLVJmSZhpcHQuGgMNMKDkeER2nu7scwwSkE8HqW0uBjT6KO+SSGNZuKhatzEGJnKaUy300CUkUQXTd0O+drFKimlLC/ESP9FhgZcXJGLayjiEZPKogoM++q2BgwODjI0OIgQYFk2xcVlhMJWIPqzAaRiInnuvYdJxYCyR5RHcjxBR28/nuERCUsKcqrJtQ1cI81w9znGB3ORoodw8SxCRcXYAkLuAOnEEI29mmhxJdXxCI6RQY0O0dmTJqOShLx+covmkJdfiGclSXU7dI/14noeJXn5hErLiKIwrpJqllf0DhjDVnHQDsrI4BLzi6soF7wYmKBFAoFG6wha+XHOppFGEcJwAbMHvFK/pKNngpnEIYbSEFKjKMPB0fmEtATZi0OxX0wksABki6tczVCOZtRKkIeFdg0c7ZKxNDGlUUSQGpLSI+JKHMvFTlmMhxU2zkT5XEEIpIdHAq1yMGWCPd//F763uZMHP/8wq2ZPpfaVF/izXb188QuPcV3ONJQNWo4FhWaiPgOS44Dvv87yIql8djRmKGJJiQj7teJN+kjpYgwB0nUYlZo8x8ANOViEfGbmuSBNX9MxbFzAUCDkCLhxtJAoI+3XsRsZ5KnvfZ2TJ8f4w798lJBy+Oq/PIFVM4dHHv1NpoejOKbAdrsYNMspwAXlod0xhuwiClxIuZpUeJx8x2F0zOaNN5/hzOlW7nvscyyqrgDhYXrdpGQlYaUYNiR5jEImB1c7pEPjxIjiKIHppshYIIhjaYGQfvyALzIN5ITv20E5NknTJeaBazq4mIw0NvHSKz+g34vwwIOfZOb0KsygbHIw+yEo8GtpDzwPTAvHd9JjoYAxXBHBdA1GTEVuSuGEbSzaSVNFyEuDYZDAJByUa1JaAQqBSVokMb0olmOQDPcTwkMmS0hHBCEXMN1ACZAIL6j2afjFokR2T6oEnhxAZvIRdh9alSKAQQkFzgAYBWg5QlrnYTuKpC0JoTG1BtIoYeFhYiiQIgHi52i29B7AjwREZ2Wi9McteBH8vBfxo0qA1n7WjMJA4fk5M9rC0uDJFIbuA1WBMiQSEbQU0QiZDM4YRWkQrsK1XEKeiyuiaOlhMYhLHoZnkTQ8oikPwjYuCjMjGbEhV3t+ldyrABPuAAAPD1zLF8JC4WEi8ZCe8GuUy3HMDDAeIW1Khs1mDOlij+SQCQlMB1xzEC2jpIWFqTKk5TAucRBgCg8pUghstDCQIoOhJAhjIhbgalcAwA8az5hpwki0MvG0RhkuttZoYSMVpKXGUhLDSCNSFo6tsVBIYfjd57RECwdXZNA6jKHGqJ5TiWdqtm98gw1b9zHQVsOf/K9PMb8kjmnaGK6LNBIojMC3DEIohAJXm2gd1A5UfjBZRqaxMfy2dggcNCFlMCQglB5m0MghnlE4tl+gyP+exJMSoZ3A/eMHQTrCwVCeL+qkJqMMoqbJ1Gn5DA218/Szb7B9cwPXLF3F/R+/h0h+DlHloqWB4Q0xZuQSI4i01x6uESbkgeOMkrRHCA25bH7xCU5fzOGBh+9k6oxKwtoE4SEZwyUXM61IW4KwToATwdOatOUSBoQWCKXwpMKQNgYiqDqo8YRAKb9SIwhcoRA6jRISyzXQhkSJFLFoiMXLrue669dQUFCInW2qM8H/BaBxtMAU+G1UpYMnTBB+C2ABeMJAugZjcoCwFwVTIukBCpFeipQRJuw5uFJiaA8pFEr4PQ08HcIwBpDGAEoUYegchE74bhVlBN0LlR/g6PnVD4X00EKjtV/ORSBJixSGFwZjFFQc4QrSpkvYTeCJKFqOgY6Cq3BNgaU10pVBBkIGpS2EEkhjCIi+R3e4PyGEwPN8X7jWwXwQBD0ksimk71UrAGi8SS6PAMLvEop2EUE3S0O4ZISFwQgjIgeETTLoS2FoByE8PGGSwUbgu8A0Bp70MFGktIUnNJZIkCGMqQ3Schw7DUJauDKBdG0Spiai035DlKsAQvvwX3geGdPByoQZsZLkpW08ewzDy0Nb2u9zr4Ka7sJFeDbC6AWvBLRLxgSJiZkSaDTpcAqhTEKeAUZWsxJ+1bWgKpyYmPXvIwvtpElZfp0AW6dxCZMSkpBOYZHA0TmkpEXMA6mG0KYkIXKJMQQ6F4TEbzHkLyvTjwBFo3G0RmZSjBsG0aSNzvGwUxaJiEvUNdGmxmEIQ+diZAywx1Aig1KFmMEJ/b46GkUGoUwkBsgkHhF8MY6fo6s1Wpoov04fKuhHYZBBaBeIoIRgFMhzhkDG0FiMGZocxlAqjCtNDE+htEZokEIipJzgFxmRIaQgpWxCpiKDH1gY9fxGWBlpkVEOMeWSMkwMz0CaaQwlEDpMykwSzgjIhBmJg0GSmFK4MoY5iS9d+tPftSTIEE7bSC1JhJNoFLF0DI1mNJQk991aCbugjVEcEQUMbIZARUHZuGYS07HQ1igZnYtQBrZIgxxD6yhCRUCkGJEmsYRBMiKIq3HGDZtYxkLbILSHEgZJFDHt4WEglYOQfgCp0gZKjAFRDCURsh3SVQAkQmNEtGCMGFFHkbSTxLWJgwEeWIyRMsO4hImqQWQmj0RYEmEM4cTByuBqB1PFUIaLRwrLiZPWoGyHsHZIEiKEgZFxSdqayFXCbCeQtb2KSzt9rQ208otJiaA/hfJtQoBf4hvhBrPwvbVD9SbZOILappOsA9rvjaEM0CCkQougcbWWOMLFDtqYYw6iieDpMIZWAU8KI0n5dFRBF1EM0DauBINRpI6jtcCRY0gimI70+3ZYseAe3tu4LDsAw+P/b++9w+S4qvzvz71V1WFyHs1Io5yTZcuSbSznJAeccCD7JeOFXcwuaYleYElLNBhsbMAY1iTnnGRbVs45h5E0oxlN7J7O3VV17/vHrZ4gC/a3z295n3clffWMpqe6wq0bzjn3RKcQJRUSVHhRsmGB5VeibB/hS4QOobRtOhEHIQXaD5vJKSwUjkkOKk11G5PO1gm4vfltPD9BWphiNcMEgNORAQG0KTGiNUa9rTRKGenYbM2UoSNCm34ftF3ZZjlpMwTWCAWiQGiJlB6WFSFs29i2QONg9MDDNTDFEEWNVqYwjsSkONXB8tRGTjdX+eAj8XyTQNes32Fpg4P/zZ3Nuw0nZJKAMGrPaBqCo8ZvXmBZlskOaNtIy7RTBBskgQApCdsMFmaxEIPbKSnAEuYcS1rYUqJw0MIQFdNZ5oka8DCEVh+/MRn8ZNSyAsdcJwkKZ4XNSVJg/1eZxoKbmdYSkEGzLhSAZeFimxTQEEhdFkpYGA29jYWFsIIKnSqEhQVBwTTtuQh8QsggTbJESGsY9yn2HQQ1nAYbU6xbWTw2VE2teNw25ahhUKgHz7x/sW0iBBIEEouweUlB8LaOMTdR/HuoZ091FJWgOlj7EhGYck41aHzPCPHAYBIhIcHXftBBhgZYxfnpM0hTzNzUwXZAIHSpuUbm0Doc8DGN8g0dw9TJAsDDD9bCySVo/S3Ioi1Ka43vF/A9D+H14+U9PD+BUj5KFfCVi+8r0C6e8vC1xNdZoALfz+ErTU5r8pgwQWQBT4Hv+qiCMgXbVBCSLMB18yjlodTQYJ9GgIApSRHUXPddszvQgJ/F990gn74HIoSPZXatw5iPFYgEgVhgoEHrAlr7WHjo9DEOt3t4JE0EuCjyieAqoRFSm2p6ysPVLr42qmGjvvPwskkO7NhJPFPAsmwCXY95XqDqN/4ehmEZXUBRKDSL2wawbXQuQ2GQETkgh4LnzP3MSxhZyEd5Pr4POV+g/TwisJ1bePiYSoYByw+Yj0Zol7wyuQjQARFA0dvaR87VhAiZMsXDn3sCGCbsg+1hYRtPYstDCI/QfyUEwCBTNa+kUcrF93x8X1BA4+kINqY/ATQhXGw8fLSWhLRAONqYJLRjxs/yUIUsuWyGXVs2cWD7VjqTvnEtExYIe1gZHzMvLIEhfa5vxtb3UL4yYokw88gIRCIYxxAy8JsW2pQ4tnBBOfjSCJNCOWjhGaFTmb6QQg2Oq2UU3yDlMIHg1IXvGTrouS5K+aZqpDB8zRJByexTCFqDZdso38f3fXzPxfMVygcrqMmhtcbzfbRfQCsdkD4Hsx0prixlSoYr0EqgdQblZQ0fky5hCVYw3928j+u7KF/j6VNLNhW+72spJV1dXTzxh0eIZfNUqgydVjXNJQ4XXH8LiQPbWL1hJVqVkyWJkGUsvvJW5s6pYOfGHpYseQilwsy+/FbOXTCDKpElHu/iiZfX0rHtMDMnTOKct1/FqPpShIJMZoAlr77CvgMHaRk3gWsWX01ZWdlbHWROUWjPJWc7OKpAz56N7DgYZ8aiy2msFHjtq3ljl2LGgnmMLRUIu5Sc8IkoG08qwww0xznbBJKXDzkxgONHsRzBCw/9gIeXN3P/vZdTGmrGMnV6cEUGW0eRvmYgc5AXX1rFrt392OEEpaV1XL14MVMnNiGFZuPy1XzgXR/mPx59lEvPORNbBeU9RZDrAB1U2bOwMbY9ihqjQFgxCus8ex97ki2NC7hh0RRCWqFFGkX5MJ0Bg2VH8wMJ/vKHP3AkkSZrwcKGCJfc8BGcyhBhBsjoKkp8wCoAeaAMhKZry1qW92a5cMEC6kvLyFtZ6OvnXW//BJ/4+Xc5f94EIr7Gk2GsoHCSoGgDGfwVqGdNklKfsBF2cIPiSYY5/lV4oK00vghjY5OOH+DhXz/KQKYSvzTGxDFzefuNVxFybJMDggJaWuRw0OSJuDbSUnjSoUA/JflqCGnywiOkfHZu3cafHv41OzZvZvE/38OHr1sYOPt5SCRKW2iRBFWChcXAwBoeuX83MSsBqpNzppzJtBvfwRjAI4fUFsoKYSmN0BIl82jhYukoaAsl00i/lLTlUqodtKcpOC5hHTLVj20Q2sWTAqltLLJGBFFh3MF0xacQhjN1AXt37uCpp57AEjaRaJQb3/8J6qptBB4O1rBJV9STnVz9dSJzgNY+Rw4d4tlnnmIgmaa5eSpXXHUFo5vr0Pi8vuR1NqzbRkgOcPV1dzJ+WiPayhPGBVVmtJYihdalSHyy6TxrVq9h4+ZtVNVXs/jqa2mqq0cQ40+/foYjxxLkS7uRdiW3vP2DTB1fdsrUDpBFFXxFRQVXXnMjN950KW+/8hbGNFssXbGPUJnNrJnzuen6xdx0w7WcOW8e23fuJp3P0R2LcejIEa659lrmnzGZf7/7m+zY1YNWHvtbDxAJlXLN4ovZsXMtj/z5WQoedPd08MD99xKLx7js8sWcveB8IpEIvu+fFgCKCHZgEp/DB/fzyksvkkmnkFh0th/mpSVLiQ0kEcIjns3RH4+T7B9AaYEXMCrPdUnE+xmI9ZHN5cxuEA+FJJXNk0omyKe78Sglh2V8+4xObWjyS4jH+9i75yDjx0/m5lvewVWLr2JUYyNCSHK5NJPGT+CpJ55gxvwzzfJVBbSXJ5vNkc4ViMf6SaVTFBRopdC+x0AySXdsgFTW1LYXbo6OZJyVLzzDM2+sIJVKkEgk8fy8YbYB0dRFHaBQ5HJpXnz2GaZOnsk1N97M/m0r+Zd//jbJuCab7SKpAnuBKpDLDZDIFcjlkuxcs5SnnnuVw+1dJONJ8m4OjcYJWSAUyVSSZCJtEi0FWgK3UGCgv594f4xCwUMBfj6Lm/PJ5jTJWD/5TBoXB63tYt7dvw5h/gtkJDLJGE8+/jjnnnMOl11+JZvXLOfrX/kehSwoCmQzKeK9CXIJ049KWOhcjN5cYTBFqpvqJemaqnOz5p3NFz73Wc6ZMYGkrEAMPi1YX0VzkTSyYm93D88+9RiXXncl11x5Fa+//Cq/e+wpkBLb98kk08Ti/SRSKfJKI0UO7fWTcz1SboFEvI/0QJIcDmhFIZsg7WuSiQSJWJy856NVgUI2Q94DhQs6RyqXw/WKc+4UwnFkbkzzaG6+6Sbefu1iCvkk3/zujwJ9mTQm08H5f9LnDhyEAGrr6rjyqit5+3XX0t7eziOPPMZAKs/uvXtIJAe49urF1FdF+MY3vkZnzKOgg+2CNtoEpQMnav8wjz/2GOtXdXHZZRdjRTt55I8v0t+XAeXy8osvct6Chdx4/fVcc/U1NI6qHpbA6+SHdffdd98thMBxHCpqq2moLiVaXcPaF56hZsGVXPe2uVilFnU1lVTX1PLGG8upqG7gwkvPo6muiZkzJ1LX2MiESWFWrTxMKFLL/LljaW5qZub0WTS3VJFOdbO1Nc6ZZ8zklZeepiTq8Pbrb6Rx1DhqaiqxpBisuX5aEMCoh6XEUnm6D+xk14F2Zp59PuXlDskjm1l50GX2gjnUiDSPPL2W1998noNLl1M6ahTl9fVo3+PA3t088/ifWb16NR09vTS0jKXUynOoq5eXl7zJmiWvs3XZX+gruZRLr5lOtQyZsE5sU09eSIRQDAy0sX9/jDPmXMhZc6dQU1NNOOQggPWrV/Lsk8+xdsV6Ws6/hPqoxPbT9B0+zG//+CTdsRQvPPkXDrYeoXzUeBrLbQ7v2cmjT7zEy8s3kUynmdLSSOpYO/c98zhdjz/Bs249dG/j4L44zRMjVEYbh4igwKj40BQGEqx8fQmLb3wfY2dM4JIJEb7+g5eYf84FbF5xP72lE5hSW4OX7GH10hVsas3TdWgzqx/9Da+2uyR7e2ndtoeKlhJqnDDPP7mEhpmTWbvudba9sY6SmgnUN0bJpFKsWbGSV557kVWr1qKFpG70GGI71/DG61vYeeAYb7z0W/Yf3MGY6QuRtkVIpk0Gx78GBUIG0RFYuMlOXn7xdd7/wU8zccoYpteW8MCvHmXRpVdghXIsW7KEV559lV3b1uJUVtNUP4qenUt4YkOB6ePrKA1FWPH0A2xLVjNzbD0CyMe62Pr682Rm3sKFk8uDHZbZcwktjXZBCwQ28f7dLH1xOzd/4n20lEY4drCDVivEVWedQaqrgzdeepWnX1/Cnh07KakZxag6i307V/D68h52t+5j+XOPs2XjOspnLqAxlGHJkw+xrU+xfenLbFjyHP2ymhAplr6+DqeklsZa8FIxHnxkFY01ZVRXm9ohpw4Cu2gAJ+RQWVlBRVUZupDnjS1HWHzVxTjSOHmKwNnDVHouWshPHgzXvosiB0cTCoepqa6kqqqSzo4+EpkCM+ZMZ2LLGKZPn0l9fT1zZtZz/68eY+Y5V9DSVEGIIDRdSHwhsbSmp38ry9/Yxcypl3HB5XOoG+3x1BPbmDJ1Ao31Di8+8xrXXn0TLRMaqG8Yiy3BEiowYJ78kMV0vUqZfQ+uRXfreg4c6ufaqxZiEr0C2uFYx37aWts4Y96ZVNVUBrvLFBAivncFfUfbGFXbDNhoo/XETXTQeXQLVsRBS5/u7k6y6TTr12zgtSXLWLFyL/lcfrBB6r/aRZ0KCLpAoJEo+nu6WL1qLW8uXc66NWvoSmTQMsIzv3uYRCrHe979Xt624Azu+eEPODaQIOV65ApZbrrlHVx2xeXs3reXN9euJ9nbxiO//iOhMsntt76Li85fhIgoEKVmtAL195DTngbhk83kOLD/EHv27eFwaxuZTB6BZPbcM7n67TewfvNWOnrS5grt03m0jZ/ffz9t7R3cfOMNpDNplq9eRybWz59++xukZfPu97+PlpYWXC9HdV01N7zjdhbOnM7UM87mjne/k6sXL6ampmbQqmG6xEQ4mD2RQvgeQoRxgWTPEaoqG6iuKqfvWCvPLVkCAtoPt7Nu9QrCZdVcduklXH7+QqZMn8X1N76D2955KxMnTERrn0Ihx549u1h0/iLGjpvAfb98gGQuwYqVK1jx5ptcffU1XHjBhTz+xFOsWbuR/qN7+On37yfen+f2265gy7alPPfyTuO4J5NB//0VBBTPmBmMf4NxAtNIBNmO3YyqqCYcLSOWyzFh2gw+8L7/h3JSLHlhKX0DWToObebNVftIZx2QsG3zUrbt6MPDNtEAaMIqT0GYGusC77gwrCAfhwbHglwmxSvL3mDJSy+yZcNW5i2YT14rMgMZJk2ewh3vfy/acnnxlfXEB+J0HTvIj398P/0DSW6/7T3kcx28+Npu8vk+XnzpIf706EuccdZMZs5pYdnyTaTTSXbv3MXWbUfQvs+eXVtYv207ZeXlp5gAcBwCTde+HdtZvuQVnn3mSS66/EpM1WYdhGsff9HJDRWkj/d9n7ZDh3jp2WfZvWcvo1vGUllRgYuPVi5I2LdlFY4DJRVRBr3Lgj7VSJA2IbuGkB3hUNsudu/ey6FDvaSyMdKFFK72KassZ83aNbz00ousXLWCfLZw0glafwsjogMcXLKe4rFHHmXa+Zcxc1QNBa0JScMMNq5bRWXDGKbOmk1YCKSXQ5Aj3t3Bz379GFU1jSw8awKQRygbP5fl1WWrWbX1MAvPnkNliU0qFacjHifpFoj39vLgd7/Fhp37KQRWbOMha9Swg9zwFIOWwjjQCY0nbDwfvHyabKFAwfdASPLxI6xctYLS+hZ62w+hyspIFQocPNBGhZOnpm4Ure3HSCeOoa0IXbE0e3Zvwtch5s1aSOOEFhqqK/AcieNpkPmAyQb2bm0cD6WIMJAssGzFcp5+6lneeG0ZyYEkICgvr2HihEmUVZTjB960QisiTojZM+dw+7vew4wz5nLbrbdwwbnzsWyL6to6jh09zP4daw2hi1RBKMy46haiFdXU1URoHjWaltGlhEQJShi+pYue8wBaYQnIZ7Ns37yCtWvW8sSKXdz2/puZPLGEK658B117j9B+ME77oQMUSkax4MyJ2JFKmmvraKwYTd3YcTRNbCAqSnFs8KXiwvOuY9bUGUydXkv8UJyOeA8H9+xlwtSFTJ47g3MXvY1pYxs42t5JLpVgylnncPttl9AyZS5z6svZ2dZvnBwHGzp8Fps5rSlqNIre+ibcKZ3Nsn79cpatXMmKHa3cdMu1NNc7VIRKSOc1+48exsYlldGksx4y7BEijBQStMIJa6AKCfhkjRe/svBtM64mvMQLdlkYxmt0zsaurzQ530OKKKPHRji4/TBCQGVthDQRDnd24/g5umNxYhlJaT7N1IXzufYdNzN68nje85GPccm8eSgkNWXw9hs/xpkLFzHn8qt4/+23MmniOGbOqOXw3g46O+MsWbaBCy64mLLKsqHOOmUwjMEIY+JylUvB95g2cwZtB/fQP5AhoAJFnnbS4nh2K2UQBqw1ec9H2DYt9ZKe/kMc7Y8Zx12dpfXAQX7wiyc596LLGDeuFIeC8agUEmGbGyugumoiF120iHz+CE8/+TRb1reTTvcjZBhhO7zn/e+iorqEdKqL//ztQ7zw7LoR0UsnOwajA8zvFLt2bWPJngSXXX4NABUmTo1Y2252bNrBqCnTKK+vxFYeDnFS3Z3ce++32e+ewae/9hXq6wCdReddNq5cyu+f3cjcSz7BVRedRVRnKSsJM2n+Qi6+/kbee8etTC9Js+1QDxmtUUIYYqn9QQewk3ny/zUoaWHhAYq0KKN+9HhuvOYKbrr6ai6+/HIaakupyRwklUqy9fBR9u9Yx879HSy64irG1Y8icWQdv3zgYVZv2M2+vWtp7YiTLThkBrrxhY0j6wBI93aRAyJKgM6jMWtIapBKAwVUoZyqmrEsvv5yPvDBO7jx5sU01FYGPM1CeQqt80irKDtbWDhEnBIQNj6SMaObmDWmhnBFJbe8/w7mzZ5E69bN/OB7P2b5hgMoJ0wJMOCUUKaOBklCJBbl+HLIU3qQoQqJEJJ8Ls++A5vp2Lad+vPu4N0fvoxIVDFq7GXMKyvlhWd+T8exXkpmXUNTeYocJhY7mtNkgRwQ8sNIlcMPScqtSfjk8cUeGvLVZBwfK+uRl2OADJ50KXH7TOIjSkk3VICVJcsoxvTHKUTLiQKocnLJPrZs3c7RnrhpszbzWqNRErQIBQw5jxZlpAt59hxYz4F9B2m6/L1c9+5r0Jk2Vr/0An95/Bl2HNjD4cPt9KU8PD9MSkrKvAGUkwUPjvWnCYkwlqeR9KNkGa4sx7K7AWEeTx70MJdMZYH0yLthSqqquOHqm7jupvdx+bWT2PbKNhLxfla+8DBPP/Eqm/YdIblvB/3pLCkxnsZMnnxNlAQK7Q9QPuYszm+yKOgKSpWPb49F42BVTWbWhGqiZVWcvWAUXs9K1qxZx+H+SuZMn4IMDZOYThXoQAMExtnP0sw5+xwW33gb1916K4d3riR27CiGGlqoQVPAWxnmyQDjzT/0bkU/Ncu2mTJtDm+/6Z28/fzxdPfu40BPH46AxN61fOunP0U3LOZdH7mTKlsTJQ/KI5XqYev2nfTEUvgCkBWcufAMPvlP7+ETH/8AZ8+9iDFNY6gsrQXCzDv3HBbfvJj3vPtGZk8Zz+uvrRr0jjoVMMLo4eZc/vLo45x/7gJaxlShASkFvltgybI1xAqS2TMmUiZBokjHE9z/i1/zyspN3Hj1O4hE+2jv7kP7Zazb8ALf/48fUVvezKJFc+iPJfBdi0ljJtN9oI29u/aya/c+8uWVTBnXZDQLDOP6wkSJn4IkIkAxg5jG83xc1zikFTyJX8gTqWnkzPnnMnVsIxdfdgWLFy/m+rdfy9gxNXQe62PHtm1cuGgRZ527iGjIQbs5xoydQSGfZP/+jazfcoAd+/pR+WNIR4FfNrQMiytSS7TSCOFRU11JXU0dNdU12I4NShHv6+Nw2xEGkkm62g7R1nkMtKSgFPlCDhHE6aKNhiGdSpNMpjnvbRdwww03opRPrOcYOsi21zR1KvH2dvYfbqWzc4BCoRCEHA7/Mf97CkorKrjqnZ/m4x/+INcuOpMy6eITQlRUsOj8qaxe8md290guPW82UIaDRk5sQlm76Nm/iaNHO8hmXLQM4QbJhSwstI6S8ZNUh0tpHDWe3TtXsn3vfjZtXUtPqsCY8U3YkQi6kANhgtxyVhSrkDLTVwp6jxzg61//N5587mVyGGc+AKmL2dEwyy9IoFRSVsF73/t+PnzHe7nk7Gk4jkM6lWHn7j1UVlZy1eJrGDV2clDtL0Nt9UTyhV4OHdnBpjc2sGbNAbTfi29DrneAA21H6UinyB1po6+vj5yyTFKnQVJrBXZpjbTCZHIZDrW1077vIEfa48ycOZlMJs3mHXuori3lyksuZPT4SThSY2mXnIwgC1kiWpmcCZj4bSEEaddCeCkEILUyeUSUzbimSxk7VfLMc88zdvQsWloqcYKQr1MXklh/jMOHD3DkyAE2b95CTVU19fX16OPm/qkErTXpdIrD7Yc42LqLXTvilEcm0lRby7Gudfzke/9B1+Est998Nl4mQSJuA6UomWbr1lf5/Be/yhtvbg/285pMJkNsIMnhtjaWL1/G/LPm09RcBtqns7ODowfb2L5lP3v2tHLZpeecIt4ABiPSBmeScXbvPcitt76L6uryYBFDJp2krbOXlunzmHvGXKKWxMJj4FgHr63eSPOM+VRFqmjr3EUhH2Js0yh2bFtO59EEs+a+jZ5EJwP9fTRU1TFx/BRivXHaOjpo7+xg9rx5LDz3bMK2hfAVUppwNmMNN1P/VBoQMIKQEBqhPQp5H8spYfrMmYSjYfzCAFldycyZ45g2fio7DqWId+3i2P52OjNpJjRPIBz2SSY0ifgA6dQxouXNTJsyjYVzZ5JGcuzobjIpm7ktY9Fjx3Pe7PGECSEshcZGB9oAhMLzjeAxpqWJhtpy0z4hQCm2b9vKrt270UA+XIJKxZjeYirXZZXFWQvOJuIE74JAK8Wh1kPs2rWLw+2dTJ46nfMXnUt1eSlSQM2oevrTWXq6uhmIuzQ0VlEaNTbtIoq7BuW6JAaStMw7h9qSENLPgXbR0kFKQYlIs+LNZVScsZi3L5qO7UukEETrw7hygIG2FJ1dfdRX1lNZadHdm+KMs86nutbHzQygM3WcdfE0GiqaSGb76Wg7Rv9AGzNmzmXO/IVE8gkKpaM4Y+Y4LCeM7m1Djz2XMyfVgPDJpft55sU3SOkQF19+ESERKHe1C1gIIQclXt91iSfSLDj3bdjhCAiw/QK2BGGH6exLkEwkQXnUTxzL7ClTaWmsJZaHzt6t2D0ljB43lpbZ8xg/oZbeLZtZta8VT2WwrQZsy6WioYly24RummcHzxc+nuvR2REjLhS5I12ESlwuufpW6qscwjrHsbhPLJegTLtUt8xh1vRJVLjHGCgfz9xpk6m0NEqGTFVH6VMY6KBhxhVMaJAmlTQuWrsIq4Kst5slSw5x/c23M3VqLdZQ6qFTE0Kwb+9utm7ZQltbO1oLLrrkCiaMGzuYR+34nfLJLRKYPCBK+bS1t7Fh4xaOHjlCmSjljPMuZ+ykUXQfWcfOTYcYN+tSLHo4djRGOFxNY30ZQqQZSAywr3WAefMvZOq4GrRSHG07wuaNmzjSfpRRzS1ccslFVFWWUCikWb18Pa372ujq6mXWnLO4avEl2CFOmXk5ooCQW0iRSGaorm0IGBGAxndzJHJ5tFNCWSRk8oCrPG4+Q2d/igQWJV4BX0C0pIJRtWWkYjEyqQx5ZZmUtyGbpopqopEIqUSK3mQMT0JTUxMldrAb0MUwQaMFKEbFnnJ7BU2QIrSAm1dks5poWSnClgi3h3g2REWpxhFROgZ8MsmjhHI2XkWUcbWjkE6S/l6XVDJJuNSntKwZJSzKw5KkWyDW20rUaqQxUsIhoRldKXG8CFgm3awCU+xFe/i+JpVX2I5DaXiYnUxpent7yaQzSCmJCYtyC8Y11KKVTzztUl5diSU0psyUWVDpZJJ4PI7rQ1VtPSXlpViApY1jYjyeoHcgg2WHGVVfRTTkQJC3zuyMTHSA9jySsQFCVZU4dhhfK2yhkBRAKfas38LPf/8E1931BS6dVI10LYSAvJ2kkO8k2REmj6Chtp7SUo++WI6SsnqcSB6d7yPXX0FJEwgVIZOK09ebx44OUF0/GtuuRCa66aOMmrIQWtrI3v30l0yiIQqpVC8HN67g4WeWc+al13HtNRdTCjjaNWYXEUEIe9D0pX2fWDxBVU1dYOoAofKAwi1oOnqNSaGuvIR8SFJqlRKxPfrSPn3xXTTKqZSUh4hbknCJjdXeRrvyiJBFe9XoUkFFTR21lgbLgmIoFTlTI8QV9HQP0OO7VHuC6jqPSMV4E0GQ6aazF/wQNEZtElYl5dEoJdmDtOk6qsoqKNcFXGnjuBLX8nATe8mWzKTG8ckDES1AuuDZPPrYPezeU8r7PnITo5tqg7TFQ9PqlMAgxTXLItbfSyKZQCufmtpaKipqBtXRRQHAYFBNOnjk5ENgBtY+yWSC/lgClEdDZTnR6gZyQuOnu8j2FUj4NpZfQEubippKqitLkWhc16UrnqWkspaasLlXKpUg1h/DtsPUNTTiODaaLL4PXR29eAVNyLFpbmkGYcx24hThPCOEgCFPoeOh8YPkoA4mDz3aB2mKPLhAmBRKl+EJECRxVHkQclZAUWbUjloYPyipwTLFHQpAePA5I59fNAWcqEUnNRQgTY8bEcgkxzTxGy6WdvCEj+WbdLAFoQn5wpTV9cC1XRwcUOBKH1sbxq5RQeY2HwiBL3AtsHER2gENWhIklgmKmCGMDfu/cJUZmcbEsGvjy2+m1/Djw0dUB2/pqAIp6VCWT0K4ggyaEGAr31QdPB46kFJ1H56oDKrmQeHoXv7zwV9xNOYw/+pbOe/KWdSKAtKPmMI3lsKhgPQig9KlxjVhWMigmIkPOoTSeQpSENEFk4DESpPGwsEipDSeDA2+ke1m0LapF9DZ3caW116kcvwspp55NiWREGG0EXSAQa8l+CuzvOj9MJIFAPgopDJGES0Fghwooz3wBRSAaF7hhs27hHyLvKXxlKAUDdIzQoCWQRSDAG2Sq3jIoEtcFE4gcBWASNAmhWfqCyJJ4RIFLBytTRZJJfElWOTwiGBrhRICqQV7967nhWceIxEv48ob3sXMMyuJ2pXYnn3qSfnDhQDeMsTHJc8JoAk8dkccPQlRXA8qeE/jP6FFFo2HSxTbC2HZmPz+fglYGp+0SRjuR0GbKEGPAmGcYR0+bI1pQKRNkavALDaUlCl9ShW1Ok4IGI5hgzAknwUqTYkSxYAjH4GLUC5alJMXIFGEtAxcr4QJGRQ+mpDJiS0KiEB0UNr+K/WDipNhqA2nDHxMwaVACNDFnZvwcBHYniBnCSJKILVPxrYocSHvKMIuZBxBiS/wlSbvCKJK42uNthQ22qR7FSaLn1AEKVw98By0rXDRWAgs3ywaJRVagHWcODZ84git0EIaGQ8GHRsVFhoZiDHHjWVwg7yAsJ+lw4rSnOpCRxtJWlmiOoKjPLBGZu4qPlcDUhfQwsEL2Lib6ufg3oNou5zx06YSCgvQHjbK1K7wbcxr+dhaoqURVsw89kEbkdQHlKfJOB6VyjXERnrELUlE+USwQAoKwXMtZQRjTysKCPxEP+GKWrRl4wiN1KZnfGF6sdgLJybrqrjSEOaq4Kg01Qzx0UIMpkk2BVXMmRqNdC0KDvhaE/V9fBuUliYzn8iADoqpWLGgOEslyBwYrwnArGEoZp8UgG9opLYQgBIaQR6hbTQ2AlOp0LxPUeCRaGGhNGQSXRxrbyMaGUVNSw0yZBPCQbriVEnMNoS/QnGLKPIiivNi8PwgAdZJTQ+HCwHm1bWy8ciDMkXIbGVqaISki/BtsCResc6IEoBGSYGPDlKGF+nO8f2WBT9iapmTNX5RUoMYAF311tNPUoyg6kNzs7gTKf4Gk23dHfTaL7Iok489a8qJinhwIwEibi71QyCMk5gPuMKQOCiAdpFBQqzhP4PQavB5pxQEZqdG8DM4GbVhrdofXCpod6QnqzbVtw2C3A/alCRVeMFHARTw8E0mUi3Q5GBwmQTOa8XbiKJxZghvoWPaeHCowVlj5s/QOiqyhxNcizmYBfBdtDY73uO/H35hcXZmCSE8geNmjJd/aQ1NZ85n8pzJlFgJZF6jlY1S4OMiPIWrIC/6g12/0XCZp+VBm/v6+GhfYFwTLfM0baO0BK+YRjgo5IQmLwQoD0tKbNuhvKYRLBsbjfTzEKj3jWg09A7D32c4/OAH9GBkARQ7txDcSYAnUKRQZBBKIrXCM6kDgqJPPpYWWEKbcMvimtYMK+FqnijwUWZWYPRByoygJpg/BBnsNB5mDg2uz6Df5GC7gw2ABkSG8pIwUybPZ/S4MThO0txPiUBbeBonwqlWM+BEEOSRDKAIo7wwqBhC5PBEHu05IAfM3FMWWkuQaZDdSPJILUcQjhHdqSnWOwU0muwwOcGsj1MFUqkiO88hki79GCIDR3F9n5gS4GqEJ/A9gRL9uMIwjFAeMr6NFhmwM+R0JWEFWTRko3geKLubPGFTtMH3KQBax8CNkiCKL7IjyP0Qv5ODqvBTDUq5JIo7Np3A9Q+REyCUJqo1tuVQ5uXISY2WUK5z9BaLATq2kX6tHNLxTMiaANsyJgLh+QgG8IkQIodyIGky5oLtE0Ni53O0YUHBg3zKnK8FHi5+wBDMGvEQXsFc6w+QMftFbB1Hu5IMDj4ullb4KPJolM4jlAe+UV9DhrD28GzJBA2Em/FtqNQhbOXjWxnTKYMLdDBzMLaGKDESNmBHTS560UlICZy8R86KIqRGygzCypoyvHYBW/pYlICS5AGHbiwvR5JyclIhVQx8CxlRlPugXE3ScckpRbnv4oYEWUug6SeEwidDKOeBncPFIkTMpNDyXHAHyFoRPKsUtEBqFZRR1riY9xe+EbLxIQHg+9hpjfRTpMhR8B3IQ0F55CRoGcZSyqjtHdBUYVEaMF4HG4VFAUcItAyDkkjfQ+Zdcp7JvZC0PXSukj5dia9A5EvAdQEnWI8Wwi8gtMaXLnlpoQoWnvJQwogg5Bz6hAMeuFJi53vpByydQRXKyYgsQh9E+CVknEr8kEZIF1vU4YiwSVssgXwnfRpgFxqXtPYgr8HzUCTNs/DJ4eN7afIqjas1UMDX4NFflNxAuSaCgqNB70JBAzoLKgc6gw4EZw1BOLIR0IpVJlTx+N8LgRyGUPjCww/6M1haQBqC2TEoDerhxPHUgKEyIbQsI6zz2HaKkKxmwIqCiJCzJVpESQqTB9tWWTR5UjRSwMbS/aayqLbMJiUYUx8oCFC0QtZjABvRV0ePTENKk+XQYPefCpBSCnxlpH7CMfBjHEkI6BhNxgpR5gFOHNR+kpkYqYEwuGEEWYTTYSy/uXKSST+I8wdNwVSAk4pcIYWvbITlIKSpju2lNG4qg5sEJY33t6/+jovufyH0oDSqKfiaWFKTTKUYiGcouJhJLSCfTvHlT3yM5944GJRsBpPUF0AE6n6CnatASEk+k+Rn9z3GRz/6IT716bs5dLQDEjE++9WvsG5HO5tXLeObP78P381w8PAefvPHp+nqs7EDf1nlg9Amax9WEMA8TKdkstMZ27FGBZX6jHAS1BUcImjCBjwsHUYKBWGJrUEIGy1dNMbOPgIChDSaikM7t/Gxf/o8+w60mvdDGe2ylMbMJA2nUdjmkcIID0apHdzO9SHlEk8K+lNxtJtC2OBpSURrcAQ2Akt6gwpzCQivQCqjyGIjLJOqVLker/z5d7y49AA49khThjBOjUUfD8CYZgiIfLFbpGU+S/D9PLmEj05lyXsFPAFKm4QoQ8JYUUIq3tUcG8EzpJH1vUyWnlScfCaNkDZaCHwbYw6y7UHSCxZIiRB+UOnP3E1hTIEWmCJRmN2+qbwWGfRgEYDjeexZsYY//ucr5D0xTLtkJktxPMgbYYxcI5osSdUDOUHO7+Hp55bw8fe/j29+6YtsP9KJFAIfB+kPxdoL9LCSyALP81jy0nP8+9d+Rn9SIUUx9ryoqzDhyH5wfhHFKWxuO7wv/4cxbGAk4Hl50okY2USaXDKHRyleUH2RYLkM/TFiVE965AtZEvEMMTdMQUTw0JT5RiMV8QfI5vrxChLXx2wa/VoTiaQl6Cgg0SIH+BSyHrG+ATLZJBqFYAw4NpW6n7gcoLzHMunamUCx+08FSABLmvjh9p1r+NRdX+ef/uUf+dJn/4HHn34DW8JAbzcPP/gI//jPX+CDH/gg9/7sT3QPpMDLs3ndPu79/je4/MJ30ZcGoXxC+KQHunno4cf52Ac+xC9+9js838YXgs59+/nO937Nxz/9CT72vst4dslmXN8P2nAaBsGqF5CJ9fHgD+7htnfewV133cVdn/5nXnrpZfKeqdYntI/GR1qGgCsKWDoTuPY5SOmjpYUSYaMek4LHH3uC1sNtfOHLX+JrX/sKE0Y3g5fDDZfgqjw5PKK6QC4cIRaPsWHTNvozZkcuFGghAu2Rjz8Y520h/SJhNSk9AbRS4OcQ2vgvGFdw86WlNFksEBYikLy16AtuolAUkP7w1ajNM1UOrfOAhycUjgqREia/uo2DowBhG2YkAG3jE+TyF0aTILUYpP9exuM9t93BHe//Z+6669N88h8/xstLlprdghR42pTwFZ4P2iaKJAzs37yBj935CbqzwfsqsPHZt2UVu1sPGmYjIgD4vgd+AYEJl/SUxkKR1yHwsuBK8vhE8cgjDT1THhvWLOXLn7+LD975Ab7w5a+zbechlBbGpDOMgQ3jFCOgA+ECXeCBe77H7dffxCc+/S/84+3/D4889iJ23gsMdTnQEjvwiXYpmo1clLZQaITwjY+HUoS1ixCm0h3SCKTYZThkQUmEZXIitLb3snH7LlzXP669RVgsf/oxfvC9P0Kogo7ePj716c/x7KOvEgmXcPU113Ln+24mkUrR1l9AWA4FYaH87OAdJIGsZ1JSAAKtJL6nQQYppoUxY/gmUxMiMG8oc/XwBv39MYyXCwQb163mc5/6BJ/+xIf46PvfyWsr9oI0u1UtTdnbQbvpKQClFFprWg+18t1v/YiPfuSjvPfjH+eN13ZgixCWnaEMi9TOV7nusnm8//Zf4AsNrocoYOYkElQUfBCk2Ld7P9//zgPcddc/8aWv3smalTtIe1HwOnjowUf50Gfu5LMf/kd++LPvcihbhZSp45t10iKoIihIpZPc+4N7uf6dP+LJB7/PLV85m1f/cwm7jrWxa8VKMomp/OhHv+ZXv/42rW2r2LLlMLs2p9m1bTdvW1BOqTWWnDQObX4hz/KVS6mqspg7fRr5nPEn9shT4cCdn7iLXz30EJ/62M38/MFH6OrqBkCdivb/E0AgzY5Zg/J9ystL+fBHP8Kvfv0wv3noQa67/krCkRCZvCKVSvDFL/4r5y9qASkQeKhMjFg8S288RU/7QXoG+k1aZq2gkGPnzu2cuWAhjQ0tVJRDCI3SHp/5ly+zaM4kzrvoQr7wgfdQkA6WVkR8h3yuQKzjKNmBOJ4wTCUe76Uv79HVfYyeo0fNjhWNn4pxrF9jaYH286QHYiTSQCZJfCBNKpHhaFsPqb5O8gqUdkCkGIhnOdDVQU/Hbtrb4/Tnim5qBAKA0flKaRIYJVLdVNZW8u0vfJXmSeMAsHQIf6CXRLxAb383XR2dZFJQCLzPjHrQN7uGwOjqeQqvYPG1r3yL3z34W+6441385Bc/Zmt7L4VYlp4sRHQUKyRx+wqkYynSvV30dBymL55g39EeWjtcEpksaLBJkbcg3tdLV2eMfCqPL0wa6Ew2TmdXD9093Xi5NL4EbSXxuhL0enliR9vo6u8mB0grxOVvu4B7fvljHnjkQZqbmli2fA2JbH5wnz+CfQ3G2qlBTiOkkdy0dhE6z20338Z9v3iI73zmi/zm0SfpaU8AGZTn0tHdS/ehYwzEj5APojv8RC/J/jy9AwkGutooZDNo6aH7e+jPFkin4/S0t5Ie8EhJKCGFylrE+rvpajtKPJEF2zY58AmkkhG+yAJkN/lUPdn0Pn74H79n9txzue6OS8EtJywUjWGNbYfJW+UYMcsCXaCnt5uOtgRHu9vxPOO8qrQgGU8wd848PvVP/0hJqUZpFzyPTDJPIuXR1ZMm1tlB1iv604hBn5YRG++/JwblIc15Cxdw/0O/4v7fPsCdH3k3P7r3tyQ8o5NReEVPoJHXn8QoFpMrKy3jYx//EH/6y++57byzefKVF9jbGcMiBMlj/OS3rzFlSiU6X0aOAQgLUBqLoHaHMDlK+hNHeP75ZxjXMoXf/u43fOADN/Pc0y9xMHaErY/cz8b2MI/9/A/89Il7qZHr+Pmz+03p8VME1t13f+1u0GRyKV79yyO4DW/j3LmlHDi4iU0bClx05Vn07d/M5h29zFgwH5E/yopVW5gybyELz5rD/AXTcAY28sRTWa648yoaZIGQHWXytEmMbq5n98YVpMUEzj13NtpSVJVXEimNImUelevnTy/v44arzqG6sjKoqnYCnPDgSQwFBekSViEKmR62bd1IPjyaGVObSeUKSGlhS5cN23bx8H0/5j++9Q2iU6/j7PG1eGQ4tnUdH/2Xb7P/cBvPP3ofb245QPOY2eRinaxe8gIvvvoSvfkK+nv3EusRjBlTwdM//gZLduW5bOFMUscO8d0v/CuyYSJNls+yl9awo6OLV//yS9av20TTtNk0lgs++7nP8fKGVrYsfZXHnvgzq5etZ97FF7Lt+d/ynd9u4Iarz6OnfQ8P3XMfnbk6qt12vvnT37D09Td49eVXWPLUw1TNvoAxVVWkDj/K57/2KC8tW85zf/o3/uMnz9E45QzmTR07gmCCNs5pQvP888/zwK++zw+//EfmvONSJpWVo1SWFx/4Cd946BV27FjBs3/+E0faupl05nwqQ1AQGuG7KBFCGr86RC7Bs48vYeHid9A8ShK1Mjz56gYaRk9g/x8e4rEjHVxz5gyOud3c943fsPfoAVaufIXXnv0ja/bE2N3ZybZlm6gozzN54kS2vPkHlnbWcWjNSzz+9PMkkzGmzp1L95H9/Ob3f+LJR5/jhecfp+fwPkbNPBe7fzP/cNPneTPbwZq//JmnnnuairqZjB/fhO0XcHMevYmj7N95mFGjpzJt+gTCNkarIIxpwTAubdT4oigEGO9+ITRCZNi6fBUFUUPL7KnEtqxjY2+OxZdfSFVZgqcee5Fv/OCn7F6ziRXrnqJ6zCLqyxXP/eev+P49j7Np7zae/N397DiSY/aMZl748fe499WtbFj1Mi8/9igb1u1mysWXUEMHm149xA//8DNWPPcyGzesoaJ5NosuWkhJ0GaEMRgU29y66QW2dbVAehf7O3Lc+dl/oAphIiAkZA5tZ/XeYzTOu5g5DVEQ0LtlC9+995e88vLrPPXcw1hWMxMmTsLz8vzql7/kwft/yssv7+T8mxZTY/kMdLXzox/ex6PPvcrK5ct59g/3o2sm0zJ2DBHbMtX6ilkdwZi6/o4JDLQgEORMVEk+nyafTrBz40biThNXXToPGZhWTMxFoLE46WmhERCFgJLSEsrKbHBzxPZuY99AL1PmX0BLSQmv/uUzbM1cwLXn22zf18zVt86gVAqE54DTC6ISS5gbxQda2bRmL2ObZzJl9hiENcAbr+5m7KyptC19EnvyhZw9ayxCCPKZ1Ty5aTLvuagBgvlwsqMonlNdUc273nMrS5/9Gg8+uZplD/VyxjXzmd48hqkLzyCn1vLgQz/jdw8+RXPtLKZMHo9wkmjA9uuQyiJvASiE5+CLEvALWF6BvNQISxursBDYUqFzLo89v5npU0ZTVVV1XLNOo6j6k0KTiMd45JE/8pkv/Cvf/M732bR1B75X4Jwz5/GtH/6EK6+63OwTJGgtEZk0sXieRZdewU9/8QMmz5jMyvUbKCuNMqZlNOVVVdQ0NDF+wmRGjaojLDS2n8f1w1jBAqzMxMkJG1Vw8QYKXHzJhdz763upqYqyeXsb2ldk0hkGCiG+9MWv8PMHf0XUhp7efsK45Kxy4/ilPVAuOR1CulnaOro57/zzuf+X97Jw5mSWLV+PL+HZJ35Kc9NU7vvFz/nxt7/FWWct4pyLzh8WHWKYmtYSIRzA4eYb38uPfvQdptWPxrUF6DxCO4T8ftoGFJ/93L/y9a/8C5mBGDt2toIAFwulFR7KFCVAgXDRIksq3U8ineJoWw8NFWM4d850Ji+YjNp7lP3ZGLntB+gK2Zx5/nl85l+/wee//FXOPvMsfvbD7/PgfV/mqiuuQmlNXmlsq4x/u/tL3PXpj3C0bT8H9+7n1RdeoL5lOj+79x4euO8n7N+6jrUbkkiRpq89zvgFC/nRA7/hI7dexy8feoCUkuQyFs8//Sxf++rnSBzez8QxdWhbGM8EbYQipY3NW3t+IAAcDxMloAs+f3n2Nb781S/x0/u/y4XnLiBaE6FjxzZeeWUNP7r353zn37/LheefwSN/eQ4PgZvuRWiHO//hk9zz0x9TVl1HT08nZbkkHUmXT33ik/zy1w9wZMsaNu8foK9jLw/85jk+9Jl/4Z5f/ZY7P/hBHNzB+Xwi2ITYte8VHv/TVj79z5+mVIbAkwgrAzj4SHxspDIOLtH8MR743WNccPl1/PSe7/FvX/0aDz/8MJ1dvURKonz6s1/g7q/+GxUVVWanb/zGiPfHaWxq5nvf/yZ3ffIOnn/lNeLpLJ4yOSeKmoC/N58thgCaLpFghXjyz4/zjS99mVeXvs41V52H1iZM1zhH20YU+Hs37P9nMCNSghvrZOu+9ZSJBurLoxza9DRL15Rxy4eup7a0HMs5Sl6U4RMGaQKSVaDjAU1FWSNVlRXs2rOebRs2snblDtqP7kWmKxh3yWIOrP1Plm55jaOrWnl+w0HcvZ244thxrTl5MSjqesqlNtLMeefPZ8vq9cjSMHV1EWIpTTRUwZlnL0B5ClUYoKGmjKyrcQnhahAig8QlH7ixah+UiUrGQeFJhZAejhYo6aDy7Tz9l8d5dukh3n3r1VSUB+loT8MgsGuiAaWpq63hAx/+MPf+8Cd85xtf4+yz5mLZMnC4K+B6LkqZaS+xCCuorhrFGWefiasz+MKjgGbUmNHMPe8cxo4fy6w5c1l0/sWcMXc8tiNxVIG8Y+zXeUsRkS6pkIN2BBMmT2XSzCkmg5zwyCuNcgvYls2FV1xPSXkF0ZJKvvPTHzBxXCOikCenwqBAYpITFewQUrpMmjqD8bNmgw2VEryCREuoKa2gry/B9tbDtO7up652LHapF0SJFCFMpj1lI3QIEHiFAcI5j7RXMPRUO4TIcdZF19BY1YD000QkuL7ZdblBBIMHaGHMVJo8rh9nyRsv8PhTT/H6ktW8753vY2pzNS1TxtJSWcqGvbvYt24d1VMmUD9lAgA5V+F5eWw/b7L0kEMDvhNm5vR54ESwRIFQOEdnTxvJTI66polIAZGSKNPGN7O39RieG2fy2OlMPvscyHnUiDRa+3gSQiXl3HD7bfzyvvuZObqBl55aQndvwhBIIVHKRwRhe6KYefMt0IBH1Ily9S3v5d577uEr3/ssz/7p92xvO8KRDVtIJQWvvbmCV558ltYDW+lL5EikfapKQyyYP5/Gphqqm5v5h3+4ldkzxxH1csw5dxEN9Q2gPeqsAvGcy9EjrRRooKJhHGSy6FyasHADV8Hh7RmCJXP09abQKNZt2EleG66tMH4urgihsHCU8Uvxj+5k55Fetuw5zBN/eZE1a9cQKYnSN2BClLXycF0frWQQFinA92lqambWGfMIhR0cmUMJSc4DIU0abEZoVP6G1PJ/DRMeYIxbAo3N7Xd8mO/8/Jd84KMf476ffo2eY53YGN+VohBgrjr5MTx1TS6Z4rGXX2dJb5hLrriSySUDPP/Kk9ROvYSyXJLu1jRZ9wAHWuMUfBucAoIatLLwtAZcSktH8853vZuWcVX88U9/JNanGDWqCieUZ+EV7+Od77uVN59awn8ueZzpE8cxsa4U/0QOyScpAv2SpL9/gG9/6x6mTb+MX3zvy5x32yz++PMH2Nm+h2VLVnFwv+ILn/08H/vUB3hj9TNsXL8Fz3NwBHh2Ac/KUIYwsZci8KC2HJQVxrbygbe4R95L89qzT/PoH57kHz75GRYtnIMtjP2R4ybAqQolwRISpInk9pTEUkOOUIYY2EHwpEALmzLHDcisxLVCODKE9DWeVijtIqURGNCaXB6U71JQmJA/5aIjYYSbIwf0xQc41t+Hlnk87ZDxXJT2QPlIobCVh287uEikp/GUNnH9ysXSGm2XE1JxLAHJWJqjfVk0AksZ5lsQEpRHSPv4vkSTw803c7jtEI8/8Re2bu3ik5/8ICXC7CDfSpKLcfoQJYzv5CgVjkmJi49rhdFewlhSlUYpFztwFhIIhAwSVGlTokqJEJ6QzJw6lvlz5/G+Oz7EZZfOJecLqhvGUjO5ih3PL+eApzln7iwaS0pMi0SIiO8SyhXAAkUIhYtSNpZrxsKngNY5ouEwSpaQSCaDqr4ex3rjjG6I4FNBxnEpVzooKGRjaw/tmUABw5rKGDdxMqUlDgW3GMiWY83rS1i6bANJLYflVjie4Zp0SDktsG0ffM2YGbMYVV9JOtVPWVkdtmMzY/I0Zp85h+tvfDdf/vwnKIl65EUpioJJ6qcFQisEFmkrQkRlERp8H5STpdS38QhRsLpAQ8HNc6y/E991h6WOFsG/IiR56XHNRbdx513v5Pe//xWr120AWyJV4FTphBHCJmokLezSEGUVpYwe1cScebOYP/9tfPObdzN96qTgCTaCMNLysCUgLBQST6kgy6QpbOT7QWlnKNYwDxBoWv5OMNROB06iIzVdo8dPpK6ynOxAIngXIDi3uPJPRhTHQUOQOl6TSw3wzNO/5fHXtnDtu77OBYumw0AbIrKAtvirPPfnP7HmzRXs37WPp59eSyqTB6WIHe3iuZdeZl+7a0iFciivrea2O97Dv3/v+4wZPY2qmjoaRmlwNWefdw3/9vXv8p7PfZj9GzYz/7xmHGqPb+JJi0AIsBA6gjO9mq6tW1m2egVbtx1lTONMRkcdVNQhnhpg2fJXeHF1JyV145lSF0bkkuzcvJo3NkKXaOfYqxvZuacN5eTp7tzL8tXr2d7hkT6wjc0bDxJPHmXn+pe55/6naJl2HvXROCtXL6Gnu3uwhn2xtPHgChhOz04ReJYgggMyh2uVkPNL6N6zilVr17Bq9Vo62o+idYRjh/azad02DnXn6dv0Gms2baGQztBVVkNE2pS5Atcuo9QSlEqFi7EVW+E6SqyUSQ8jAOFTffY5lB3YxFPrV7P59Q10pmxqaUfY5YRLooQ8H+xyCIWp9jO4wkZEymjMxslbCguJtgUVQmGNv4CJ3kbWvPQi65ZuZW9fGaUyg60ccCQ5JwTyGCFpGLJDBx3pqVx69XnccOnVvG3xteQKGwgXTNndQdIXUAkBKNdnz9ZdbFt2iH2hgxxbuZUNOw/gFVL0lExitN4VCBxV6IhFuY7jIShB4tgllAqBtAqEUHiyBb+kmQVTxrJg9mzqx4wHckQsQaS+kbPH1rFv205a841MmdhMKVkgQV3DJCaWRtmzZB1L1q9nb2cKWySJ6ipqPNd4nlsFhAzTVNHIqPFz2LNzNUvefJXnX15NvmYaV88Pk5Zn0t0UY25vLypk0R2ZQKnIUOVmOXToECtXrWbZsh2sau9hzNRGairLUGTB6+SRe77PJ//1h+yK++RFPphBVlDuGITwAYXSpSSiNgMHV7LlzaU8t+woDZMamNvQSOP51zKmJULvvsMcE2l6Ys3U+oeIiFJikWnoUIFSFxClVGiJ9BvYWz2Tyfk2bM+iYFVytC7P2KRF3cRzaZyymt2P7uLNTSvZ0nsQJ1RJmJxhZUHKZDlMsutzxlOtullw/vm8+44JPPfQw2zbfhTXTXFg7xZW79xJT0cPrZs3c6T1EF2N07lswQREXyc92WMkkg6elyTqeBQyWTZt3MyGLfvpGtjDplU7OHKkDWWHUBFTPwIBQlZQagfhjRC0y0cECaD8v6s92BSTknhIfA4f2c3qNW+wctWbvL5yJePr5zOuaWpwqg7a5RtT3UlIEIcLAEb40mg3x571K/n9bx4lGmlgCgfZvGEzXdYk7vznO/nB137EF794F+//8JVcPO89fOauq4mU96KzEQ5teJbPfum9PL40DkEmj55jR9m4dgWvPP8ca9dv5NIrb2JCZTN5L8nezRtYtX45rz/+EqLmRm64qvkkFbVODOvuu+++W2tNNFrCzJmTaG3tJpbswbZtbrz+ZqZNbWFUQy0Qov1oO8mBGJdfdgnzzzoL3y2waeMG+mMxxk6ZRi6fwnEE48eNpu3wYXZs30VlRS0VVfW4StNYX0piIIZjV9A4qplYMkZnTxstTS3U1NSghwsBpzBUsPczOwWN7yviiQy9sQG6u/uoqqigqbGe1gP72bljB+UVVVjhCLm8y8SxTUSjYUrLapgyfQJOOItjlTGqvoXmhlqksBDSZsKEcTTUVuEIhRSasWPH09fvsid2hOn1ozlr/rk0z5hJY2k10dJyxkwZR3lIgLBoGTuZ2voKbCvM1CnTaKgvQQ46OkF9bR1WKEzrkTYaxzSzcNHbGDe+iebaUnRVDVNaxlJTaqM8m+rx05jU7LD0uaV0JgvklEv88EHeWLmMtBVm5qRJUJQHhREUQaB8jy0bN9HWvo9RY6fgConQmqljmwlHwlSPGsvoceMIaY9oWSVjxk+gvLIChvWtITs2aIFtS2bNnklZaQk6sKtrJJZQuAWXLdv30TJ5CuefewYhPHxhU15ZT319I/vbD3M0FqeippxxDQ1IYdEwYQYtzeVIXMpL6pg0fhrTpk0hl0/R3tqK73q8/bpraWkZhxCaaCTKjFmziEQioDVVVVVMnjyZ1tZWtm/fTn9/H7Nnz+bCRRdSVhrFxkdYira2btbu7eT222+huVQH2f+La6hIykx2Je1bpDMuvQMxrJDNDTfcSEvTGCpKS5k4fgLbd+ykp6eX3r5jVFSU0dTUjEQwatQoRo9pNpvl4JYSzZgJ42kc1YgTckAXmDH9LMaNq6K+tpG9ezuJliredt65jBk9nZZxzVjSGgyRHIQAIfJUV7UwbvIoJk0ZRyEXxhEwqqGKXbt2cuxYB5W1o9HSoiwaor6xmjNnzKOnP0Fr+yGOdXaAgvHjx+MVXNatXcvAwACNo5pI5Qs0lFqMbqxDRsoYPW48jbVVSF0gVFnP1EkTKA9ZWBiTSlFK0IOmgb8XzCwEyb69+9m1czddPT00N43hxhtupqLa1PIYlFqMbvX4m5wUMDUqzKfiG/qeR1d3N8oKMWbiRGKxPhKJBKPq66iuqkRosxso+DnKqicxafoYosLHFlFECKob6jnv7AsY3RAC7dPR3s7WLVvJZPNccNElzJ03k7AjyGWybNy4kcNtbYxqGs2tt91CeXkZQpysvf1WCK21VkoFITz5EeV8NASV/VSQYnEIvtJYJ076jx7KqH7cN/kgAnlk+EUxMc5pAcDAG0y4YmLxTd+bvjQskGEhQ8dPVS84wzIJmGQSixI0oSAjfZFZa1AeSG2cyoRAEiIJlGMem7UgGkR0FSSEdCFwyhPBOJo5oYxh4DghbuTY+4CFi4dtyJnKmSJG0sLLHeAD132EW+76EuddtohQ3wDfu+8HhMeM54sfv3PwThLjI2FQXKVZIBr0GQidDwhniLRWlOKDMBnEiz0jBy2sQahg0Ic6cAjX2jjYub4gFzvGqmXL2bDjEFff/k5mThlPSOfwdMgkTwq6vxDcLYpnUjeLEEIrpPCCYk1Fuu8FzzQYWntvxQmFYm26wHXjbNjwBstXbqds9Jm865ZrqLa8oNjS8GtMHgmzm4yM+K7YH0JpU8L7OBhjVND7w+QJtDZJooK/tdYmeRMimAuYd4agZ8xnpU1+98F3GhxKQ3fMGKWwA8PikA5oJP0pkMNREiGLzzAwKvaR72EEag/8PFilmOwa4OgsWkRRYAQA5QedYfzxizPj74+hFT3iaGC5GPHViU/93w/tBkrp4joIiI7gLXSk2AVaBWnKpYskjK80Urim7JjwkIDGxkNjaz9IUTE0oi5gay+Yi0PPKLoT8pYnn7wYWUBIm4WgBzOamUUlguPBKgmIkwlcUUohhm0RjI1LGYcrJQLHK2PClcK4ZaFDoI23qxY+KPFXCeGpCKO0JxACitPeiAXFv0w/D1JRk9NeELi+OYZOY+LpjZDlmCK8AiztI3QwFtLGDxLNOipHWjqU+hbah3wIwkqjtYdvCaygeMzwHTnCN857QVY2IYasnBRbr5WxfgoLS+eR+GgRQSlpfAjo4fU/vMjytg4qm5qoGciRL7FYeM1iZoweM4IYi8HpGjhOkgcZoqAFtiAo1KPxcfCFJqQMZy++O4EQMFSoWpgjQaOHhADoj8VZ9upL9Bzr5qzzLmTW/LOwBdi4eMoyORGFC8I1NQywCQPCVygpjN+BwkQhaMDSaJk1TDEoClVkiCdk+CeCWXS4XopNO7eT0w5z5syn0jH+GdjD76EHGakZBwlIFEboK779iBz1onidOaj1SAv+4Dk6cNYYbLMOmLnRZCAKAeMudoI16O/zlvdUymgqhBW4y5k0rya7pG+KjwWFncwYuggEUtlBhUuTiXLwrsH7aEALjdQuaI0SDp4w+Q9t7aM0SGGeYc42jKgoIv5/xQSK/G5QiBE6UEoEb/SW8TnJUKyuWXy5QPpRwZrw8UCDFGZGCGTQZ4K0gKjKI5XJ2FmwjLgb9j2kcFEyGmifAvauLXRQ/G7I1VIMbQSGdfepwpGOEwIAYXZWppddw7Axi9RIUnoYmxrqRmuEDDXUqYM9Kop/FDu9eHD436cxEiP7+q3fDYfpQxUIAUNV8YxkjNYoHCMEoAJZ2IypCvLF28rDl5ZJ8qPBk+BoDXgoUUxxKxCiADrYQYsMqBJTfSvA8IVkRlchtSYvbCzfRUgfqcO4UuAohZB5SHlsaTtM0vOpyUkaxo0m2lBD5ARvPhxFsWhoFxgwvOI3w6aXadNwJ6simT9+/pkzs7k07UfaiYSjjGkZS+BNaOzGShpiJXKAQhFGaFMhUIMRDrCHBACBWUOiqEH5W2/116EAoVyE9vGtCDkgghtUMQwF2obimcVRGEnkir/l8APF0wYx/NqRf464ZMQf+cEqjIgCOjBNCNSg0HP87cDIkVgDQCkoO6hhXQAdgUCPgTajqyRYvsaTJv2zOIEGYyRU8FtQnC2DwzGij4owHVg85++Dv3L3wT4uCqjDaKgY8eGkglm7mLHSxjmW4uZxmMBuzjEjV+wHw60K4DugBa5tEgKHtTb1ImTRy/+4+Tzi2PHHTy2MFAIUIOOmjKJWpiKTLgWt0VKhcczQFItrBINlVL2DysUTELji0gtKkwo9xNyCXeRp/DX8dxe+axaElQ1i9MuDSm1GWQ3mdkW/aKPpGckwtQA/cEQCgpK1fpDhRBpBUUWM6lQkQJe/dXc3bH2ZcHxDzKWCvDQaBt/SOCJIaONB3vHwsCl1BVpCxtKUBvu84SjOJhH8tiDQYpk9vplpGrTZXQ61rHhl8cf6G32rA4W5EZAERqPBYAlmgZAKhYl8EdoxLypBCS8gYcYMYVCsG3Ci9fF/jhxgqxy2Jyg4IXJCUE4CocAXFaYvBMH6KrbcAm2GTw2yueNoIMMmwFsQnGgy3AyK+7J4yfBzGNIOmecZraAJdRu6/YhR8AD7KFALXgRs35T+0SZ02NXmPg7a5HZ3BVkbIvjIv+nAZ+aAGkyopIIxNG55J3rTEx37n8df2TBRnNhecKxYyrnY0f7Q8ZMIQyJPkbcE4a/BaMhBrSPFDhq8VpFC6hKUlkNKKeEi0CjsoO7F8SjOvBN9d+phRC+Y+RZMUKUDImjsM0XLopHZxOACG7pJkbSciGAHBGlEuNeJpPDTgJHdUmRqw48UTxj6VESw6xkcO6NGA2Wc3YKStApMIhhDFgEQKshN7huCqyggTAZ5Y2pQQTlbTXBfs+M29QGPQ7FhwY/SxodEKg+hNTkEynexyAetNHPKRZk89sF0sVHDVIUjb138PEROh96t2B4za4/vo7ceMRh+ZQBtci94BNYPHdgqzZeAhwazR/EDDhv0XTHPm7mrhyJv1PAj8h7892H0N2bHJP3iavNMvoj/goMNH5YTo9ji4zF0RXHVvuVM4Zo+ECooyWzIsGnxiRs2vCfNnq5YfML07fDzlNZo7RvhtRjaqkcQlBEYfFdh9pFq8KAP2guYhHlc8af4bgYn6of/KRSfXJxzw54leKsAAMP65AQv+78c3mAPFOeJoVWDQqYO1E96+DkGkpjRAAQVvoWvETqHIk/huD4c2XMqCNQ8EUbOhJMdIzUBEHRAkVAVP5tTRrrdFC878QJ/K/Rx5x7/92n8zyDY8g1mjhsav+H9/dYjIzGkoiueMfwKFfwufv7bjG3oStM2Y1owxX0Gn6KN/VYXw8eCtf9fKWaHvj3ReSc6VsTf+q4Ic87IM4f/VXwzzLHBr46/93Hn/V/A9LwONu3FtpmxNpbx4Ti+HX9PHN8vJ/r8t+AFGovijm9oXhV7TxSNPsUpPvzyv4Gh69/614mP/L0xfD7w33jy/2lf/u/CW/v/v/OeXpBMycCsi7+2Hk7jRDiBEHAap3Eap3Eap3EapwL+9hbuNE7jNE7jNE7jNE5anBYCTuM0TuM0TuM0TlGcFgJO4zRO4zRO4zROUZwWAk7jNE7jNE7jNE5R/L/eM/T5t4voggAAAABJRU5ErkJggg==)\n",
        "\n",
        "Imagine an accounting routine used in a book shop. It works on a list with sublists, which look like this: Write a Python program, which returns a list with 2-tuples. Each tuple consists of the order number and the product of the price per item and the quantity. The product should be increased by 10,- € if the value of the order is smaller than 100,00 €.\n"
      ],
      "metadata": {
        "id": "UvW__w9ofn3t"
      }
    },
    {
      "cell_type": "code",
      "source": [
        "# Sample data (as seen in your image)\n",
        "orders = [\n",
        "    [34587, \"Learning Python, Mark Lutz\", 4, 40.95],\n",
        "    [98762, \"Programming Python, Mark Lutz\", 5, 56.80],\n",
        "    [77226, \"Head First Python, Paul Barry\", 3, 32.95],\n",
        "    [88112, \"Einführung in Python3, Bernd Klein\", 3, 24.99]\n",
        "]\n",
        "\n",
        "def process_orders(order_list):\n",
        "    result = []\n",
        "    for order in order_list:\n",
        "        order_number = order[0]\n",
        "        quantity = order[2]\n",
        "        price_per_item = order[3]\n",
        "        total = quantity * price_per_item\n",
        "        if total < 100:\n",
        "            total += 10  # Add €10 surcharge if under €100\n",
        "        result.append((order_number, round(total, 2)))\n",
        "    return result\n",
        "\n",
        "# Call the function and print the result\n",
        "processed_orders = process_orders(orders)\n",
        "print(processed_orders)\n"
      ],
      "metadata": {
        "colab": {
          "base_uri": "https://localhost:8080/"
        },
        "id": "GGD2_hasgBpG",
        "outputId": "81874d83-c6f5-4e3a-8c08-ec84086f6581"
      },
      "execution_count": 34,
      "outputs": [
        {
          "output_type": "stream",
          "name": "stdout",
          "text": [
            "[(34587, 163.8), (98762, 284.0), (77226, 108.85), (88112, 84.97)]\n"
          ]
        }
      ]
    }
  ]
}